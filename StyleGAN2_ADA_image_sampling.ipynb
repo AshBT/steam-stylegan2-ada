{
  "nbformat": 4,
  "nbformat_minor": 0,
  "metadata": {
    "colab": {
      "name": "StyleGAN2-ADA_image_sampling.ipynb",
      "provenance": [],
      "collapsed_sections": [
        "sbWQ38fBoo4h",
        "g0oZRRs2KO5A",
        "K-gghiqKRddO",
        "a5-zERj22GM3",
        "lCEU3QQy2JMM",
        "IUM1b1vHer8O",
        "EOzeEv29B4ml",
        "kKt9poYK_leN",
        "hZmbFpro_qSs",
        "-pE27_X4QkY-",
        "Gw0K1l4QQmQe",
        "-xIKBmPVQpZ1",
        "LANsXlv6aYIE",
        "bkaWzCnCQ86s",
        "gKjk4FwKbTBN",
        "70ldvI-ObVai",
        "6UM9eWimRAUc"
      ],
      "machine_shape": "hm"
    },
    "kernelspec": {
      "name": "python3",
      "display_name": "Python 3"
    },
    "accelerator": "GPU"
  },
  "cells": [
    {
      "cell_type": "markdown",
      "metadata": {
        "id": "8UDVO2FGKIQw"
      },
      "source": [
        "# StyleGAN2-ADA: sampling images with a trained model\n",
        "\n",
        "References:\n",
        "- this notebook: https://github.com/woctezuma/steam-stylegan2-ada\n",
        "- the original StyleGAN2-ADA repository: https://github.com/NVlabs/stylegan2-ada\n",
        "- my fork of StyleGAN2-ADA: https://github.com/woctezuma/stylegan2-ada"
      ]
    },
    {
      "cell_type": "markdown",
      "metadata": {
        "id": "VgwgYzlkyCrU"
      },
      "source": [
        "## Mount Google Drive"
      ]
    },
    {
      "cell_type": "code",
      "metadata": {
        "id": "GmokzZyCKA5o",
        "outputId": "ca1ec679-0297-44fa-8dd9-0d76ea0e32a6",
        "colab": {
          "base_uri": "https://localhost:8080/"
        }
      },
      "source": [
        "%pip install Google-Colab-Transfer"
      ],
      "execution_count": 1,
      "outputs": [
        {
          "output_type": "stream",
          "text": [
            "Collecting Google-Colab-Transfer\n",
            "  Downloading https://files.pythonhosted.org/packages/a0/90/76fc38bcad442018977ed0e4e663473ef56a4d15395b2aa09055e8c49185/Google_Colab_Transfer-0.1.6-py3-none-any.whl\n",
            "Installing collected packages: Google-Colab-Transfer\n",
            "Successfully installed Google-Colab-Transfer-0.1.6\n"
          ],
          "name": "stdout"
        }
      ]
    },
    {
      "cell_type": "code",
      "metadata": {
        "id": "PXvJm3hCKWGf",
        "outputId": "4ba7c753-21cf-4df2-abbf-e646480a0415",
        "colab": {
          "base_uri": "https://localhost:8080/"
        }
      },
      "source": [
        "import colab_transfer\n",
        "\n",
        "drive_path = colab_transfer.get_path_to_home_of_google_drive()\n",
        "colab_path = colab_transfer.get_path_to_home_of_local_machine()\n",
        "\n",
        "colab_transfer.mount_google_drive()"
      ],
      "execution_count": 2,
      "outputs": [
        {
          "output_type": "stream",
          "text": [
            "Mounted at /content/drive/\n"
          ],
          "name": "stdout"
        }
      ]
    },
    {
      "cell_type": "markdown",
      "metadata": {
        "id": "sbWQ38fBoo4h"
      },
      "source": [
        "## Switch to Tensorflow 1.x"
      ]
    },
    {
      "cell_type": "markdown",
      "metadata": {
        "id": "tJiCQbhy51Nt"
      },
      "source": [
        "> TensorFlow 2.x is not supported.\n",
        "\n",
        "Reference: https://github.com/NVlabs/stylegan2-ada#requirements\n",
        "\n",
        "> Colab uses TensorFlow 2.x by default, though you can switch to 1.x by the method shown below.\n",
        "\n",
        "Reference: https://colab.research.google.com/notebooks/tensorflow_version.ipynb"
      ]
    },
    {
      "cell_type": "code",
      "metadata": {
        "id": "kHL4_p1xnoDY",
        "outputId": "5ececaa4-59fc-46c1-9eca-ceb5c444ce9c",
        "colab": {
          "base_uri": "https://localhost:8080/"
        }
      },
      "source": [
        "%tensorflow_version 1.x"
      ],
      "execution_count": 3,
      "outputs": [
        {
          "output_type": "stream",
          "text": [
            "TensorFlow 1.x selected.\n"
          ],
          "name": "stdout"
        }
      ]
    },
    {
      "cell_type": "markdown",
      "metadata": {
        "id": "g0oZRRs2KO5A"
      },
      "source": [
        "## Install my fork of StyleGAN2-ADA\n",
        "\n",
        "Switch to the branch `fix-assertion-error`."
      ]
    },
    {
      "cell_type": "code",
      "metadata": {
        "id": "sKYZ49zf41Sv",
        "outputId": "60035b5a-7edb-4e56-9f2a-c2787040a5b7",
        "colab": {
          "base_uri": "https://localhost:8080/"
        }
      },
      "source": [
        "%cd /content/\n",
        "\n",
        "%rm -rf stylegan2-ada/\n",
        "!git clone https://github.com/woctezuma/stylegan2-ada.git\n",
        "\n",
        "%cd stylegan2-ada/\n",
        "!git checkout fix-assertion-error\n",
        "\n",
        "%cd /content/"
      ],
      "execution_count": 4,
      "outputs": [
        {
          "output_type": "stream",
          "text": [
            "/content\n",
            "Cloning into 'stylegan2-ada'...\n",
            "remote: Enumerating objects: 17, done.\u001b[K\n",
            "remote: Counting objects: 100% (17/17), done.\u001b[K\n",
            "remote: Compressing objects: 100% (15/15), done.\u001b[K\n",
            "remote: Total 112 (delta 7), reused 10 (delta 2), pack-reused 95\u001b[K\n",
            "Receiving objects: 100% (112/112), 1.39 MiB | 30.29 MiB/s, done.\n",
            "Resolving deltas: 100% (48/48), done.\n",
            "/content/stylegan2-ada\n",
            "Branch 'fix-assertion-error' set up to track remote branch 'fix-assertion-error' from 'origin'.\n",
            "Switched to a new branch 'fix-assertion-error'\n",
            "/content\n"
          ],
          "name": "stdout"
        }
      ]
    },
    {
      "cell_type": "markdown",
      "metadata": {
        "id": "K-gghiqKRddO"
      },
      "source": [
        "## Import previously prepared datasets from Google Drive\n",
        "\n",
        "NB: this is only useful for quality metrics."
      ]
    },
    {
      "cell_type": "code",
      "metadata": {
        "id": "8SE22FIqBStI",
        "outputId": "82f4677d-d5d8-4da1-8bb3-cce1de91e670",
        "colab": {
          "base_uri": "https://localhost:8080/"
        }
      },
      "source": [
        "folder_name = 'datasets/steam/'\n",
        "\n",
        "colab_transfer.copy_folder(folder_name)"
      ],
      "execution_count": 5,
      "outputs": [
        {
          "output_type": "stream",
          "text": [
            "Copying /content/drive/My Drive/datasets/steam/ to /content/datasets/steam/\n"
          ],
          "name": "stdout"
        }
      ]
    },
    {
      "cell_type": "markdown",
      "metadata": {
        "id": "TtOGsIoPJhsD"
      },
      "source": [
        "## Specify the snapshot found on Google Drive"
      ]
    },
    {
      "cell_type": "markdown",
      "metadata": {
        "id": "GS24vxJONTQK"
      },
      "source": [
        "Create a symbolic link to Google Drive, to avoid issues with the space in `My Drive`:"
      ]
    },
    {
      "cell_type": "code",
      "metadata": {
        "id": "58-lv5agNPqe"
      },
      "source": [
        "# Reference: https://github.com/pjreddie/darknet/issues/1672#issuecomment-527442785\n",
        "!ln -s \"/content/drive/My Drive/\" \"/content/gdrive\""
      ],
      "execution_count": 6,
      "outputs": []
    },
    {
      "cell_type": "markdown",
      "metadata": {
        "id": "POXfN1_DNakl"
      },
      "source": [
        "The path to a checkpoint corresponding to a fully trained model is specified."
      ]
    },
    {
      "cell_type": "code",
      "metadata": {
        "id": "yZvfEubWLTEx"
      },
      "source": [
        "gdrive_root = '/content/gdrive/'\n",
        "result_root_folder = 'training-runs/'"
      ],
      "execution_count": 7,
      "outputs": []
    },
    {
      "cell_type": "code",
      "metadata": {
        "id": "SODukD1_LUao"
      },
      "source": [
        "result_folder_name_to_load = '00025-steam-mirror-auto_no_ramp1-kimg5000-p0.713-resumecustom-freezed10/'\n",
        "network_base_name='network-snapshot-005000.pkl'"
      ],
      "execution_count": 8,
      "outputs": []
    },
    {
      "cell_type": "code",
      "metadata": {
        "id": "6K_vc9H-1QFF",
        "outputId": "0550cc2b-f13f-4d10-ad41-22c6a9a4d4e2",
        "colab": {
          "base_uri": "https://localhost:8080/"
        }
      },
      "source": [
        "from pathlib import Path\n",
        "\n",
        "network_pkl = f'{gdrive_root}{result_root_folder}{result_folder_name_to_load}{network_base_name}'\n",
        "\n",
        "print('{}\\nFile exists? {}'.format(\n",
        "    network_pkl,\n",
        "    Path(network_pkl).exists(),\n",
        "))"
      ],
      "execution_count": 14,
      "outputs": [
        {
          "output_type": "stream",
          "text": [
            "/content/gdrive/training-runs/00025-steam-mirror-auto_no_ramp1-kimg5000-p0.713-resumecustom-freezed10/network-snapshot-005000.pkl\n",
            "File exists? True\n"
          ],
          "name": "stdout"
        }
      ]
    },
    {
      "cell_type": "markdown",
      "metadata": {
        "id": "oKKr_0S30BwB"
      },
      "source": [
        "## Quality metrics\n",
        "\n",
        "Reference: https://github.com/NVlabs/stylegan2-ada#quality-metrics"
      ]
    },
    {
      "cell_type": "code",
      "metadata": {
        "id": "8XRYMbn2-Pwd",
        "outputId": "7cad881a-a3c7-4fa6-c0d1-e553356ff7c8",
        "colab": {
          "base_uri": "https://localhost:8080/"
        }
      },
      "source": [
        "%cd /content/"
      ],
      "execution_count": 41,
      "outputs": [
        {
          "output_type": "stream",
          "text": [
            "/content\n"
          ],
          "name": "stdout"
        }
      ]
    },
    {
      "cell_type": "markdown",
      "metadata": {
        "id": "a5-zERj22GM3"
      },
      "source": [
        "### StyleGAN2-ADA"
      ]
    },
    {
      "cell_type": "code",
      "metadata": {
        "id": "yxOGju0u0TJ6",
        "outputId": "17e7c2a7-b997-452f-926c-9f2544d1a7b2",
        "colab": {
          "base_uri": "https://localhost:8080/"
        }
      },
      "source": [
        "!python stylegan2-ada/calc_metrics.py --network={network_pkl} --metrics=fid50k_full"
      ],
      "execution_count": 42,
      "outputs": [
        {
          "output_type": "stream",
          "text": [
            "Loading network from \"/content/gdrive/training-runs/00025-steam-mirror-auto_no_ramp1-kimg5000-p0.713-resumecustom-freezed10/network-snapshot-005000.pkl\"...\n",
            "Setting up TensorFlow plugin \"fused_bias_act.cu\": Loading... Done.\n",
            "Setting up TensorFlow plugin \"upfirdn_2d.cu\": Loading... Done.\n",
            "\n",
            "Gs                            Params    OutputShape         WeightShape     \n",
            "---                           ---       ---                 ---             \n",
            "latents_in                    -         (?, 512)            -               \n",
            "labels_in                     -         (?, 0)              -               \n",
            "G_mapping/Normalize           -         (?, 512)            -               \n",
            "G_mapping/Dense0              262656    (?, 512)            (512, 512)      \n",
            "G_mapping/Dense1              262656    (?, 512)            (512, 512)      \n",
            "G_mapping/Dense2              262656    (?, 512)            (512, 512)      \n",
            "G_mapping/Dense3              262656    (?, 512)            (512, 512)      \n",
            "G_mapping/Dense4              262656    (?, 512)            (512, 512)      \n",
            "G_mapping/Dense5              262656    (?, 512)            (512, 512)      \n",
            "G_mapping/Dense6              262656    (?, 512)            (512, 512)      \n",
            "G_mapping/Dense7              262656    (?, 512)            (512, 512)      \n",
            "G_mapping/Broadcast           -         (?, 14, 512)        -               \n",
            "dlatent_avg                   -         (512,)              -               \n",
            "Truncation/Lerp               -         (?, 14, 512)        -               \n",
            "G_synthesis/4x4/Const         8192      (?, 512, 4, 4)      (1, 512, 4, 4)  \n",
            "G_synthesis/4x4/Conv          2622465   (?, 512, 4, 4)      (3, 3, 512, 512)\n",
            "G_synthesis/4x4/ToRGB         264195    (?, 3, 4, 4)        (1, 1, 512, 3)  \n",
            "G_synthesis/8x8/Conv0_up      2622465   (?, 512, 8, 8)      (3, 3, 512, 512)\n",
            "G_synthesis/8x8/Conv1         2622465   (?, 512, 8, 8)      (3, 3, 512, 512)\n",
            "G_synthesis/8x8/Upsample      -         (?, 3, 8, 8)        -               \n",
            "G_synthesis/8x8/ToRGB         264195    (?, 3, 8, 8)        (1, 1, 512, 3)  \n",
            "G_synthesis/16x16/Conv0_up    2622465   (?, 512, 16, 16)    (3, 3, 512, 512)\n",
            "G_synthesis/16x16/Conv1       2622465   (?, 512, 16, 16)    (3, 3, 512, 512)\n",
            "G_synthesis/16x16/Upsample    -         (?, 3, 16, 16)      -               \n",
            "G_synthesis/16x16/ToRGB       264195    (?, 3, 16, 16)      (1, 1, 512, 3)  \n",
            "G_synthesis/32x32/Conv0_up    2622465   (?, 512, 32, 32)    (3, 3, 512, 512)\n",
            "G_synthesis/32x32/Conv1       2622465   (?, 512, 32, 32)    (3, 3, 512, 512)\n",
            "G_synthesis/32x32/Upsample    -         (?, 3, 32, 32)      -               \n",
            "G_synthesis/32x32/ToRGB       264195    (?, 3, 32, 32)      (1, 1, 512, 3)  \n",
            "G_synthesis/64x64/Conv0_up    1442561   (?, 256, 64, 64)    (3, 3, 512, 256)\n",
            "G_synthesis/64x64/Conv1       721409    (?, 256, 64, 64)    (3, 3, 256, 256)\n",
            "G_synthesis/64x64/Upsample    -         (?, 3, 64, 64)      -               \n",
            "G_synthesis/64x64/ToRGB       132099    (?, 3, 64, 64)      (1, 1, 256, 3)  \n",
            "G_synthesis/128x128/Conv0_up  426369    (?, 128, 128, 128)  (3, 3, 256, 128)\n",
            "G_synthesis/128x128/Conv1     213249    (?, 128, 128, 128)  (3, 3, 128, 128)\n",
            "G_synthesis/128x128/Upsample  -         (?, 3, 128, 128)    -               \n",
            "G_synthesis/128x128/ToRGB     66051     (?, 3, 128, 128)    (1, 1, 128, 3)  \n",
            "G_synthesis/256x256/Conv0_up  139457    (?, 64, 256, 256)   (3, 3, 128, 64) \n",
            "G_synthesis/256x256/Conv1     69761     (?, 64, 256, 256)   (3, 3, 64, 64)  \n",
            "G_synthesis/256x256/Upsample  -         (?, 3, 256, 256)    -               \n",
            "G_synthesis/256x256/ToRGB     33027     (?, 3, 256, 256)    (1, 1, 64, 3)   \n",
            "---                           ---       ---                 ---             \n",
            "Total                         24767458                                      \n",
            "\n",
            "Looking up training options from \"/content/gdrive/training-runs/00025-steam-mirror-auto_no_ramp1-kimg5000-p0.713-resumecustom-freezed10/training_options.json\"...\n",
            "\n",
            "Dataset options:\n",
            "{\n",
            "  \"path\": \"/content/datasets/steam\",\n",
            "  \"max_label_size\": 0,\n",
            "  \"resolution\": 256,\n",
            "  \"mirror_augment\": true\n",
            "}\n",
            "\n",
            "Evaluating fid50k_full...\n",
            "Downloading https://nvlabs-fi-cdn.nvidia.com/stylegan2-ada/pretrained/metrics/inception_v3_features.pkl ... done\n",
            "Calculating real image statistics for fid50k_full...\n",
            "tcmalloc: large alloc 4294967296 bytes == 0x4e9a8000 @  0x7f906ae93001 0x7f90680bc765 0x7f9068120bb0 0x7f9068122a4f 0x7f90681b9048 0x50a4a5 0x50cc96 0x507be4 0x508ec2 0x594a01 0x549e8f 0x5515c1 0x5a9dac 0x50a433 0x50cc96 0x507be4 0x588e5c 0x59fd0e 0x50d256 0x5095c8 0x50a2fd 0x50beb4 0x58e6f9 0x50c127 0x507be4 0x509900 0x50a2fd 0x50cc96 0x507be4 0x509900 0x50a2fd\n",
            "tcmalloc: large alloc 4294967296 bytes == 0x7f8e88000000 @  0x7f906ae911e7 0x7f90680bc5e1 0x7f9068120c78 0x7f9068120f37 0x7f90681b8f28 0x50a4a5 0x50cc96 0x507be4 0x509900 0x50a2fd 0x50cc96 0x507be4 0x509900 0x50a2fd 0x50cc96 0x507be4 0x509900 0x50a2fd 0x50cc96 0x5095c8 0x50a2fd 0x50beb4 0x507be4 0x509900 0x50a2fd 0x50beb4 0x507be4 0x509900 0x50a2fd 0x50cc96 0x507be4\n",
            "tcmalloc: large alloc 4294967296 bytes == 0x7f8e88000000 @  0x7f906ae911e7 0x7f90680bc5e1 0x7f9068120c78 0x7f9068120f37 0x7f90256350c5 0x7f9024fb8902 0x7f9024fb8eb2 0x7f9024f71c3e 0x50a12f 0x50beb4 0x5095c8 0x50a2fd 0x50beb4 0x507be4 0x588c8b 0x59fd0e 0x50d256 0x507be4 0x509900 0x50a2fd 0x50beb4 0x507be4 0x509900 0x50a2fd 0x50beb4 0x5095c8 0x50a2fd 0x50beb4 0x507be4 0x508ec2 0x594a01\n",
            "network-snapshot-005000        time 13m 57s      fid50k_full 21.7101\n"
          ],
          "name": "stdout"
        }
      ]
    },
    {
      "cell_type": "code",
      "metadata": {
        "id": "M2oPZKuc1dhO",
        "outputId": "e5e158de-8c0b-4352-eb11-280629353f85",
        "colab": {
          "base_uri": "https://localhost:8080/"
        }
      },
      "source": [
        "!python stylegan2-ada/calc_metrics.py --network={network_pkl} --metrics=kid50k_full"
      ],
      "execution_count": 43,
      "outputs": [
        {
          "output_type": "stream",
          "text": [
            "Loading network from \"/content/gdrive/training-runs/00025-steam-mirror-auto_no_ramp1-kimg5000-p0.713-resumecustom-freezed10/network-snapshot-005000.pkl\"...\n",
            "Setting up TensorFlow plugin \"fused_bias_act.cu\": Loading... Done.\n",
            "Setting up TensorFlow plugin \"upfirdn_2d.cu\": Loading... Done.\n",
            "\n",
            "Gs                            Params    OutputShape         WeightShape     \n",
            "---                           ---       ---                 ---             \n",
            "latents_in                    -         (?, 512)            -               \n",
            "labels_in                     -         (?, 0)              -               \n",
            "G_mapping/Normalize           -         (?, 512)            -               \n",
            "G_mapping/Dense0              262656    (?, 512)            (512, 512)      \n",
            "G_mapping/Dense1              262656    (?, 512)            (512, 512)      \n",
            "G_mapping/Dense2              262656    (?, 512)            (512, 512)      \n",
            "G_mapping/Dense3              262656    (?, 512)            (512, 512)      \n",
            "G_mapping/Dense4              262656    (?, 512)            (512, 512)      \n",
            "G_mapping/Dense5              262656    (?, 512)            (512, 512)      \n",
            "G_mapping/Dense6              262656    (?, 512)            (512, 512)      \n",
            "G_mapping/Dense7              262656    (?, 512)            (512, 512)      \n",
            "G_mapping/Broadcast           -         (?, 14, 512)        -               \n",
            "dlatent_avg                   -         (512,)              -               \n",
            "Truncation/Lerp               -         (?, 14, 512)        -               \n",
            "G_synthesis/4x4/Const         8192      (?, 512, 4, 4)      (1, 512, 4, 4)  \n",
            "G_synthesis/4x4/Conv          2622465   (?, 512, 4, 4)      (3, 3, 512, 512)\n",
            "G_synthesis/4x4/ToRGB         264195    (?, 3, 4, 4)        (1, 1, 512, 3)  \n",
            "G_synthesis/8x8/Conv0_up      2622465   (?, 512, 8, 8)      (3, 3, 512, 512)\n",
            "G_synthesis/8x8/Conv1         2622465   (?, 512, 8, 8)      (3, 3, 512, 512)\n",
            "G_synthesis/8x8/Upsample      -         (?, 3, 8, 8)        -               \n",
            "G_synthesis/8x8/ToRGB         264195    (?, 3, 8, 8)        (1, 1, 512, 3)  \n",
            "G_synthesis/16x16/Conv0_up    2622465   (?, 512, 16, 16)    (3, 3, 512, 512)\n",
            "G_synthesis/16x16/Conv1       2622465   (?, 512, 16, 16)    (3, 3, 512, 512)\n",
            "G_synthesis/16x16/Upsample    -         (?, 3, 16, 16)      -               \n",
            "G_synthesis/16x16/ToRGB       264195    (?, 3, 16, 16)      (1, 1, 512, 3)  \n",
            "G_synthesis/32x32/Conv0_up    2622465   (?, 512, 32, 32)    (3, 3, 512, 512)\n",
            "G_synthesis/32x32/Conv1       2622465   (?, 512, 32, 32)    (3, 3, 512, 512)\n",
            "G_synthesis/32x32/Upsample    -         (?, 3, 32, 32)      -               \n",
            "G_synthesis/32x32/ToRGB       264195    (?, 3, 32, 32)      (1, 1, 512, 3)  \n",
            "G_synthesis/64x64/Conv0_up    1442561   (?, 256, 64, 64)    (3, 3, 512, 256)\n",
            "G_synthesis/64x64/Conv1       721409    (?, 256, 64, 64)    (3, 3, 256, 256)\n",
            "G_synthesis/64x64/Upsample    -         (?, 3, 64, 64)      -               \n",
            "G_synthesis/64x64/ToRGB       132099    (?, 3, 64, 64)      (1, 1, 256, 3)  \n",
            "G_synthesis/128x128/Conv0_up  426369    (?, 128, 128, 128)  (3, 3, 256, 128)\n",
            "G_synthesis/128x128/Conv1     213249    (?, 128, 128, 128)  (3, 3, 128, 128)\n",
            "G_synthesis/128x128/Upsample  -         (?, 3, 128, 128)    -               \n",
            "G_synthesis/128x128/ToRGB     66051     (?, 3, 128, 128)    (1, 1, 128, 3)  \n",
            "G_synthesis/256x256/Conv0_up  139457    (?, 64, 256, 256)   (3, 3, 128, 64) \n",
            "G_synthesis/256x256/Conv1     69761     (?, 64, 256, 256)   (3, 3, 64, 64)  \n",
            "G_synthesis/256x256/Upsample  -         (?, 3, 256, 256)    -               \n",
            "G_synthesis/256x256/ToRGB     33027     (?, 3, 256, 256)    (1, 1, 64, 3)   \n",
            "---                           ---       ---                 ---             \n",
            "Total                         24767458                                      \n",
            "\n",
            "Looking up training options from \"/content/gdrive/training-runs/00025-steam-mirror-auto_no_ramp1-kimg5000-p0.713-resumecustom-freezed10/training_options.json\"...\n",
            "\n",
            "Dataset options:\n",
            "{\n",
            "  \"path\": \"/content/datasets/steam\",\n",
            "  \"max_label_size\": 0,\n",
            "  \"resolution\": 256,\n",
            "  \"mirror_augment\": true\n",
            "}\n",
            "\n",
            "Evaluating kid50k_full...\n",
            "Calculating real image statistics for kid50k_full...\n",
            "tcmalloc: large alloc 4294967296 bytes == 0x4f3a0000 @  0x7f48204d5001 0x7f481d6fe765 0x7f481d762bb0 0x7f481d764a4f 0x7f481d7fb048 0x50a4a5 0x50cc96 0x507be4 0x508ec2 0x594a01 0x549e8f 0x5515c1 0x5a9dac 0x50a433 0x50cc96 0x507be4 0x588e5c 0x59fd0e 0x50d256 0x5095c8 0x50a2fd 0x50beb4 0x58e6f9 0x50c127 0x507be4 0x509900 0x50a2fd 0x50cc96 0x507be4 0x509900 0x50a2fd\n",
            "tcmalloc: large alloc 4294967296 bytes == 0x7f463e000000 @  0x7f48204d31e7 0x7f481d6fe5e1 0x7f481d762c78 0x7f481d762f37 0x7f481d7faf28 0x50a4a5 0x50cc96 0x507be4 0x509900 0x50a2fd 0x50cc96 0x507be4 0x509900 0x50a2fd 0x50cc96 0x507be4 0x509900 0x50a2fd 0x50cc96 0x5095c8 0x50a2fd 0x50beb4 0x507be4 0x509900 0x50a2fd 0x50beb4 0x507be4 0x509900 0x50a2fd 0x50cc96 0x507be4\n",
            "tcmalloc: large alloc 4294967296 bytes == 0x7f463e000000 @  0x7f48204d31e7 0x7f481d6fe5e1 0x7f481d762c78 0x7f481d762f37 0x7f47dac770c5 0x7f47da5fa902 0x7f47da5faeb2 0x7f47da5b3c3e 0x50a12f 0x50beb4 0x5095c8 0x50a2fd 0x50beb4 0x507be4 0x588c8b 0x59fd0e 0x50d256 0x507be4 0x509900 0x50a2fd 0x50beb4 0x507be4 0x509900 0x50a2fd 0x50beb4 0x5095c8 0x50a2fd 0x50beb4 0x507be4 0x508ec2 0x594a01\n",
            "network-snapshot-005000        time 11m 17s      kid50k_full 0.00801452\n"
          ],
          "name": "stdout"
        }
      ]
    },
    {
      "cell_type": "code",
      "metadata": {
        "id": "dH5U8gSV1d2N",
        "outputId": "ad881d4d-373e-4ba6-94d6-e6ce74c0d3fb",
        "colab": {
          "base_uri": "https://localhost:8080/"
        }
      },
      "source": [
        "!python stylegan2-ada/calc_metrics.py --network={network_pkl} --metrics=pr50k3_full"
      ],
      "execution_count": 44,
      "outputs": [
        {
          "output_type": "stream",
          "text": [
            "Loading network from \"/content/gdrive/training-runs/00025-steam-mirror-auto_no_ramp1-kimg5000-p0.713-resumecustom-freezed10/network-snapshot-005000.pkl\"...\n",
            "Setting up TensorFlow plugin \"fused_bias_act.cu\": Loading... Done.\n",
            "Setting up TensorFlow plugin \"upfirdn_2d.cu\": Loading... Done.\n",
            "\n",
            "Gs                            Params    OutputShape         WeightShape     \n",
            "---                           ---       ---                 ---             \n",
            "latents_in                    -         (?, 512)            -               \n",
            "labels_in                     -         (?, 0)              -               \n",
            "G_mapping/Normalize           -         (?, 512)            -               \n",
            "G_mapping/Dense0              262656    (?, 512)            (512, 512)      \n",
            "G_mapping/Dense1              262656    (?, 512)            (512, 512)      \n",
            "G_mapping/Dense2              262656    (?, 512)            (512, 512)      \n",
            "G_mapping/Dense3              262656    (?, 512)            (512, 512)      \n",
            "G_mapping/Dense4              262656    (?, 512)            (512, 512)      \n",
            "G_mapping/Dense5              262656    (?, 512)            (512, 512)      \n",
            "G_mapping/Dense6              262656    (?, 512)            (512, 512)      \n",
            "G_mapping/Dense7              262656    (?, 512)            (512, 512)      \n",
            "G_mapping/Broadcast           -         (?, 14, 512)        -               \n",
            "dlatent_avg                   -         (512,)              -               \n",
            "Truncation/Lerp               -         (?, 14, 512)        -               \n",
            "G_synthesis/4x4/Const         8192      (?, 512, 4, 4)      (1, 512, 4, 4)  \n",
            "G_synthesis/4x4/Conv          2622465   (?, 512, 4, 4)      (3, 3, 512, 512)\n",
            "G_synthesis/4x4/ToRGB         264195    (?, 3, 4, 4)        (1, 1, 512, 3)  \n",
            "G_synthesis/8x8/Conv0_up      2622465   (?, 512, 8, 8)      (3, 3, 512, 512)\n",
            "G_synthesis/8x8/Conv1         2622465   (?, 512, 8, 8)      (3, 3, 512, 512)\n",
            "G_synthesis/8x8/Upsample      -         (?, 3, 8, 8)        -               \n",
            "G_synthesis/8x8/ToRGB         264195    (?, 3, 8, 8)        (1, 1, 512, 3)  \n",
            "G_synthesis/16x16/Conv0_up    2622465   (?, 512, 16, 16)    (3, 3, 512, 512)\n",
            "G_synthesis/16x16/Conv1       2622465   (?, 512, 16, 16)    (3, 3, 512, 512)\n",
            "G_synthesis/16x16/Upsample    -         (?, 3, 16, 16)      -               \n",
            "G_synthesis/16x16/ToRGB       264195    (?, 3, 16, 16)      (1, 1, 512, 3)  \n",
            "G_synthesis/32x32/Conv0_up    2622465   (?, 512, 32, 32)    (3, 3, 512, 512)\n",
            "G_synthesis/32x32/Conv1       2622465   (?, 512, 32, 32)    (3, 3, 512, 512)\n",
            "G_synthesis/32x32/Upsample    -         (?, 3, 32, 32)      -               \n",
            "G_synthesis/32x32/ToRGB       264195    (?, 3, 32, 32)      (1, 1, 512, 3)  \n",
            "G_synthesis/64x64/Conv0_up    1442561   (?, 256, 64, 64)    (3, 3, 512, 256)\n",
            "G_synthesis/64x64/Conv1       721409    (?, 256, 64, 64)    (3, 3, 256, 256)\n",
            "G_synthesis/64x64/Upsample    -         (?, 3, 64, 64)      -               \n",
            "G_synthesis/64x64/ToRGB       132099    (?, 3, 64, 64)      (1, 1, 256, 3)  \n",
            "G_synthesis/128x128/Conv0_up  426369    (?, 128, 128, 128)  (3, 3, 256, 128)\n",
            "G_synthesis/128x128/Conv1     213249    (?, 128, 128, 128)  (3, 3, 128, 128)\n",
            "G_synthesis/128x128/Upsample  -         (?, 3, 128, 128)    -               \n",
            "G_synthesis/128x128/ToRGB     66051     (?, 3, 128, 128)    (1, 1, 128, 3)  \n",
            "G_synthesis/256x256/Conv0_up  139457    (?, 64, 256, 256)   (3, 3, 128, 64) \n",
            "G_synthesis/256x256/Conv1     69761     (?, 64, 256, 256)   (3, 3, 64, 64)  \n",
            "G_synthesis/256x256/Upsample  -         (?, 3, 256, 256)    -               \n",
            "G_synthesis/256x256/ToRGB     33027     (?, 3, 256, 256)    (1, 1, 64, 3)   \n",
            "---                           ---       ---                 ---             \n",
            "Total                         24767458                                      \n",
            "\n",
            "Looking up training options from \"/content/gdrive/training-runs/00025-steam-mirror-auto_no_ramp1-kimg5000-p0.713-resumecustom-freezed10/training_options.json\"...\n",
            "\n",
            "Dataset options:\n",
            "{\n",
            "  \"path\": \"/content/datasets/steam\",\n",
            "  \"max_label_size\": 0,\n",
            "  \"resolution\": 256,\n",
            "  \"mirror_augment\": true\n",
            "}\n",
            "\n",
            "Evaluating pr50k3_full...\n",
            "Downloading https://nvlabs-fi-cdn.nvidia.com/stylegan2-ada/pretrained/metrics/vgg16.pkl ... done\n",
            "Calculating real image statistics for pr50k3_full...\n",
            "tcmalloc: large alloc 4294967296 bytes == 0xce0c6000 @  0x7ff7b36fc001 0x7ff7b0925765 0x7ff7b0989bb0 0x7ff7b098ba4f 0x7ff7b0a22048 0x50a4a5 0x50cc96 0x507be4 0x508ec2 0x594a01 0x549e8f 0x5515c1 0x5a9dac 0x50a433 0x50cc96 0x507be4 0x588e5c 0x59fd0e 0x50d256 0x5095c8 0x50a2fd 0x50beb4 0x58e6f9 0x50c127 0x507be4 0x509900 0x50a2fd 0x50cc96 0x507be4 0x509900 0x50a2fd\n",
            "tcmalloc: large alloc 4294967296 bytes == 0x7ff5d178c000 @  0x7ff7b36fa1e7 0x7ff7b09255e1 0x7ff7b0989c78 0x7ff7b0989f37 0x7ff7b0a21f28 0x50a4a5 0x50cc96 0x507be4 0x509900 0x50a2fd 0x50cc96 0x507be4 0x509900 0x50a2fd 0x50cc96 0x507be4 0x509900 0x50a2fd 0x50cc96 0x5095c8 0x50a2fd 0x50beb4 0x507be4 0x509900 0x50a2fd 0x50beb4 0x507be4 0x509900 0x50a2fd 0x50cc96 0x507be4\n",
            "tcmalloc: large alloc 4294967296 bytes == 0x7ff5d178c000 @  0x7ff7b36fa1e7 0x7ff7b09255e1 0x7ff7b0989c78 0x7ff7b0989f37 0x7ff76de9e0c5 0x7ff76d821902 0x7ff76d821eb2 0x7ff76d7dac3e 0x50a12f 0x50beb4 0x5095c8 0x50a2fd 0x50beb4 0x507be4 0x588c8b 0x59fd0e 0x50d256 0x507be4 0x509900 0x50a2fd 0x50beb4 0x507be4 0x509900 0x50a2fd 0x50beb4 0x5095c8 0x50a2fd 0x50beb4 0x507be4 0x508ec2 0x594a01\n",
            "network-snapshot-005000        time 13m 05s      pr50k3_full_precision 0.6051     pr50k3_full_recall 0.0344\n"
          ],
          "name": "stdout"
        }
      ]
    },
    {
      "cell_type": "code",
      "metadata": {
        "id": "EhlyRgBk1eIs",
        "outputId": "1282de60-b407-4487-81dc-95132aa4c559",
        "colab": {
          "base_uri": "https://localhost:8080/"
        }
      },
      "source": [
        "!python stylegan2-ada/calc_metrics.py --network={network_pkl} --metrics=is50k"
      ],
      "execution_count": 45,
      "outputs": [
        {
          "output_type": "stream",
          "text": [
            "Loading network from \"/content/gdrive/training-runs/00025-steam-mirror-auto_no_ramp1-kimg5000-p0.713-resumecustom-freezed10/network-snapshot-005000.pkl\"...\n",
            "Setting up TensorFlow plugin \"fused_bias_act.cu\": Loading... Done.\n",
            "Setting up TensorFlow plugin \"upfirdn_2d.cu\": Loading... Done.\n",
            "\n",
            "Gs                            Params    OutputShape         WeightShape     \n",
            "---                           ---       ---                 ---             \n",
            "latents_in                    -         (?, 512)            -               \n",
            "labels_in                     -         (?, 0)              -               \n",
            "G_mapping/Normalize           -         (?, 512)            -               \n",
            "G_mapping/Dense0              262656    (?, 512)            (512, 512)      \n",
            "G_mapping/Dense1              262656    (?, 512)            (512, 512)      \n",
            "G_mapping/Dense2              262656    (?, 512)            (512, 512)      \n",
            "G_mapping/Dense3              262656    (?, 512)            (512, 512)      \n",
            "G_mapping/Dense4              262656    (?, 512)            (512, 512)      \n",
            "G_mapping/Dense5              262656    (?, 512)            (512, 512)      \n",
            "G_mapping/Dense6              262656    (?, 512)            (512, 512)      \n",
            "G_mapping/Dense7              262656    (?, 512)            (512, 512)      \n",
            "G_mapping/Broadcast           -         (?, 14, 512)        -               \n",
            "dlatent_avg                   -         (512,)              -               \n",
            "Truncation/Lerp               -         (?, 14, 512)        -               \n",
            "G_synthesis/4x4/Const         8192      (?, 512, 4, 4)      (1, 512, 4, 4)  \n",
            "G_synthesis/4x4/Conv          2622465   (?, 512, 4, 4)      (3, 3, 512, 512)\n",
            "G_synthesis/4x4/ToRGB         264195    (?, 3, 4, 4)        (1, 1, 512, 3)  \n",
            "G_synthesis/8x8/Conv0_up      2622465   (?, 512, 8, 8)      (3, 3, 512, 512)\n",
            "G_synthesis/8x8/Conv1         2622465   (?, 512, 8, 8)      (3, 3, 512, 512)\n",
            "G_synthesis/8x8/Upsample      -         (?, 3, 8, 8)        -               \n",
            "G_synthesis/8x8/ToRGB         264195    (?, 3, 8, 8)        (1, 1, 512, 3)  \n",
            "G_synthesis/16x16/Conv0_up    2622465   (?, 512, 16, 16)    (3, 3, 512, 512)\n",
            "G_synthesis/16x16/Conv1       2622465   (?, 512, 16, 16)    (3, 3, 512, 512)\n",
            "G_synthesis/16x16/Upsample    -         (?, 3, 16, 16)      -               \n",
            "G_synthesis/16x16/ToRGB       264195    (?, 3, 16, 16)      (1, 1, 512, 3)  \n",
            "G_synthesis/32x32/Conv0_up    2622465   (?, 512, 32, 32)    (3, 3, 512, 512)\n",
            "G_synthesis/32x32/Conv1       2622465   (?, 512, 32, 32)    (3, 3, 512, 512)\n",
            "G_synthesis/32x32/Upsample    -         (?, 3, 32, 32)      -               \n",
            "G_synthesis/32x32/ToRGB       264195    (?, 3, 32, 32)      (1, 1, 512, 3)  \n",
            "G_synthesis/64x64/Conv0_up    1442561   (?, 256, 64, 64)    (3, 3, 512, 256)\n",
            "G_synthesis/64x64/Conv1       721409    (?, 256, 64, 64)    (3, 3, 256, 256)\n",
            "G_synthesis/64x64/Upsample    -         (?, 3, 64, 64)      -               \n",
            "G_synthesis/64x64/ToRGB       132099    (?, 3, 64, 64)      (1, 1, 256, 3)  \n",
            "G_synthesis/128x128/Conv0_up  426369    (?, 128, 128, 128)  (3, 3, 256, 128)\n",
            "G_synthesis/128x128/Conv1     213249    (?, 128, 128, 128)  (3, 3, 128, 128)\n",
            "G_synthesis/128x128/Upsample  -         (?, 3, 128, 128)    -               \n",
            "G_synthesis/128x128/ToRGB     66051     (?, 3, 128, 128)    (1, 1, 128, 3)  \n",
            "G_synthesis/256x256/Conv0_up  139457    (?, 64, 256, 256)   (3, 3, 128, 64) \n",
            "G_synthesis/256x256/Conv1     69761     (?, 64, 256, 256)   (3, 3, 64, 64)  \n",
            "G_synthesis/256x256/Upsample  -         (?, 3, 256, 256)    -               \n",
            "G_synthesis/256x256/ToRGB     33027     (?, 3, 256, 256)    (1, 1, 64, 3)   \n",
            "---                           ---       ---                 ---             \n",
            "Total                         24767458                                      \n",
            "\n",
            "Looking up training options from \"/content/gdrive/training-runs/00025-steam-mirror-auto_no_ramp1-kimg5000-p0.713-resumecustom-freezed10/training_options.json\"...\n",
            "\n",
            "Dataset options:\n",
            "{\n",
            "  \"path\": \"/content/datasets/steam\",\n",
            "  \"max_label_size\": 0,\n",
            "  \"resolution\": 256,\n",
            "  \"mirror_augment\": true\n",
            "}\n",
            "\n",
            "Evaluating is50k...\n",
            "Downloading https://nvlabs-fi-cdn.nvidia.com/stylegan2-ada/pretrained/metrics/inception_v3_softmax.pkl ... done\n",
            "tcmalloc: large alloc 4294967296 bytes == 0x5eaa4000 @  0x7f73215ea001 0x7f731e813765 0x7f731e877bb0 0x7f731e879a4f 0x7f731e910048 0x50a4a5 0x50cc96 0x507be4 0x508ec2 0x594a01 0x549e8f 0x5515c1 0x5a9dac 0x50a433 0x50cc96 0x507be4 0x588e5c 0x59fd0e 0x50d256 0x5095c8 0x50a2fd 0x50beb4 0x5095c8 0x50a2fd 0x50beb4 0x507be4 0x509900 0x50a2fd 0x50cc96 0x507be4 0x509900\n",
            "tcmalloc: large alloc 4294967296 bytes == 0x7f7126000000 @  0x7f73215e81e7 0x7f731e8135e1 0x7f731e877c78 0x7f731e877f37 0x7f731e90ff28 0x50a4a5 0x50cc96 0x507be4 0x509900 0x50a2fd 0x50cc96 0x507be4 0x509900 0x50a2fd 0x50cc96 0x507be4 0x509900 0x50a2fd 0x50cc96 0x5095c8 0x50a2fd 0x50beb4 0x507be4 0x509900 0x50a2fd 0x50beb4 0x507be4 0x509900 0x50a2fd 0x50cc96 0x507be4\n",
            "tcmalloc: large alloc 4294967296 bytes == 0x7f7126000000 @  0x7f73215e81e7 0x7f731e8135e1 0x7f731e877c78 0x7f731e877f37 0x7f72dbd8c0c5 0x7f72db70f902 0x7f72db70feb2 0x7f72db6c8c3e 0x50a12f 0x50beb4 0x5095c8 0x50a2fd 0x50beb4 0x507be4 0x588c8b 0x59fd0e 0x50d256 0x507be4 0x509900 0x50a2fd 0x50beb4 0x507be4 0x509900 0x50a2fd 0x50beb4 0x5095c8 0x50a2fd 0x50beb4 0x507be4 0x508ec2 0x594a01\n",
            "network-snapshot-005000        time 9m 57s       is50k_mean 3.9495     is50k_std 0.0494\n"
          ],
          "name": "stdout"
        }
      ]
    },
    {
      "cell_type": "markdown",
      "metadata": {
        "id": "lCEU3QQy2JMM"
      },
      "source": [
        "### Legacy: StyleGAN2"
      ]
    },
    {
      "cell_type": "code",
      "metadata": {
        "id": "-9L9KmTb1z3V",
        "outputId": "6881afd5-9a0a-4312-f3d8-f91b2814bc90",
        "colab": {
          "base_uri": "https://localhost:8080/"
        }
      },
      "source": [
        "!python stylegan2-ada/calc_metrics.py --network={network_pkl} --metrics=fid50k"
      ],
      "execution_count": 46,
      "outputs": [
        {
          "output_type": "stream",
          "text": [
            "Loading network from \"/content/gdrive/training-runs/00025-steam-mirror-auto_no_ramp1-kimg5000-p0.713-resumecustom-freezed10/network-snapshot-005000.pkl\"...\n",
            "Setting up TensorFlow plugin \"fused_bias_act.cu\": Loading... Done.\n",
            "Setting up TensorFlow plugin \"upfirdn_2d.cu\": Loading... Done.\n",
            "\n",
            "Gs                            Params    OutputShape         WeightShape     \n",
            "---                           ---       ---                 ---             \n",
            "latents_in                    -         (?, 512)            -               \n",
            "labels_in                     -         (?, 0)              -               \n",
            "G_mapping/Normalize           -         (?, 512)            -               \n",
            "G_mapping/Dense0              262656    (?, 512)            (512, 512)      \n",
            "G_mapping/Dense1              262656    (?, 512)            (512, 512)      \n",
            "G_mapping/Dense2              262656    (?, 512)            (512, 512)      \n",
            "G_mapping/Dense3              262656    (?, 512)            (512, 512)      \n",
            "G_mapping/Dense4              262656    (?, 512)            (512, 512)      \n",
            "G_mapping/Dense5              262656    (?, 512)            (512, 512)      \n",
            "G_mapping/Dense6              262656    (?, 512)            (512, 512)      \n",
            "G_mapping/Dense7              262656    (?, 512)            (512, 512)      \n",
            "G_mapping/Broadcast           -         (?, 14, 512)        -               \n",
            "dlatent_avg                   -         (512,)              -               \n",
            "Truncation/Lerp               -         (?, 14, 512)        -               \n",
            "G_synthesis/4x4/Const         8192      (?, 512, 4, 4)      (1, 512, 4, 4)  \n",
            "G_synthesis/4x4/Conv          2622465   (?, 512, 4, 4)      (3, 3, 512, 512)\n",
            "G_synthesis/4x4/ToRGB         264195    (?, 3, 4, 4)        (1, 1, 512, 3)  \n",
            "G_synthesis/8x8/Conv0_up      2622465   (?, 512, 8, 8)      (3, 3, 512, 512)\n",
            "G_synthesis/8x8/Conv1         2622465   (?, 512, 8, 8)      (3, 3, 512, 512)\n",
            "G_synthesis/8x8/Upsample      -         (?, 3, 8, 8)        -               \n",
            "G_synthesis/8x8/ToRGB         264195    (?, 3, 8, 8)        (1, 1, 512, 3)  \n",
            "G_synthesis/16x16/Conv0_up    2622465   (?, 512, 16, 16)    (3, 3, 512, 512)\n",
            "G_synthesis/16x16/Conv1       2622465   (?, 512, 16, 16)    (3, 3, 512, 512)\n",
            "G_synthesis/16x16/Upsample    -         (?, 3, 16, 16)      -               \n",
            "G_synthesis/16x16/ToRGB       264195    (?, 3, 16, 16)      (1, 1, 512, 3)  \n",
            "G_synthesis/32x32/Conv0_up    2622465   (?, 512, 32, 32)    (3, 3, 512, 512)\n",
            "G_synthesis/32x32/Conv1       2622465   (?, 512, 32, 32)    (3, 3, 512, 512)\n",
            "G_synthesis/32x32/Upsample    -         (?, 3, 32, 32)      -               \n",
            "G_synthesis/32x32/ToRGB       264195    (?, 3, 32, 32)      (1, 1, 512, 3)  \n",
            "G_synthesis/64x64/Conv0_up    1442561   (?, 256, 64, 64)    (3, 3, 512, 256)\n",
            "G_synthesis/64x64/Conv1       721409    (?, 256, 64, 64)    (3, 3, 256, 256)\n",
            "G_synthesis/64x64/Upsample    -         (?, 3, 64, 64)      -               \n",
            "G_synthesis/64x64/ToRGB       132099    (?, 3, 64, 64)      (1, 1, 256, 3)  \n",
            "G_synthesis/128x128/Conv0_up  426369    (?, 128, 128, 128)  (3, 3, 256, 128)\n",
            "G_synthesis/128x128/Conv1     213249    (?, 128, 128, 128)  (3, 3, 128, 128)\n",
            "G_synthesis/128x128/Upsample  -         (?, 3, 128, 128)    -               \n",
            "G_synthesis/128x128/ToRGB     66051     (?, 3, 128, 128)    (1, 1, 128, 3)  \n",
            "G_synthesis/256x256/Conv0_up  139457    (?, 64, 256, 256)   (3, 3, 128, 64) \n",
            "G_synthesis/256x256/Conv1     69761     (?, 64, 256, 256)   (3, 3, 64, 64)  \n",
            "G_synthesis/256x256/Upsample  -         (?, 3, 256, 256)    -               \n",
            "G_synthesis/256x256/ToRGB     33027     (?, 3, 256, 256)    (1, 1, 64, 3)   \n",
            "---                           ---       ---                 ---             \n",
            "Total                         24767458                                      \n",
            "\n",
            "Looking up training options from \"/content/gdrive/training-runs/00025-steam-mirror-auto_no_ramp1-kimg5000-p0.713-resumecustom-freezed10/training_options.json\"...\n",
            "\n",
            "Dataset options:\n",
            "{\n",
            "  \"path\": \"/content/datasets/steam\",\n",
            "  \"max_label_size\": 0,\n",
            "  \"resolution\": 256,\n",
            "  \"mirror_augment\": true\n",
            "}\n",
            "\n",
            "Evaluating fid50k...\n",
            "Calculating real image statistics for fid50k...\n",
            "tcmalloc: large alloc 4294967296 bytes == 0x4fc56000 @  0x7fd8626ef001 0x7fd85f918765 0x7fd85f97cbb0 0x7fd85f97ea4f 0x7fd85fa15048 0x50a4a5 0x50cc96 0x507be4 0x508ec2 0x594a01 0x549e8f 0x5515c1 0x5a9dac 0x50a433 0x50cc96 0x507be4 0x588e5c 0x59fd0e 0x50d256 0x5095c8 0x50a2fd 0x50beb4 0x58e6f9 0x50c127 0x507be4 0x509900 0x50a2fd 0x50cc96 0x507be4 0x509900 0x50a2fd\n",
            "tcmalloc: large alloc 4294967296 bytes == 0x7fd680000000 @  0x7fd8626ed1e7 0x7fd85f9185e1 0x7fd85f97cc78 0x7fd85f97cf37 0x7fd85fa14f28 0x50a4a5 0x50cc96 0x507be4 0x509900 0x50a2fd 0x50cc96 0x507be4 0x509900 0x50a2fd 0x50cc96 0x507be4 0x509900 0x50a2fd 0x50cc96 0x5095c8 0x50a2fd 0x50beb4 0x507be4 0x509900 0x50a2fd 0x50beb4 0x507be4 0x509900 0x50a2fd 0x50cc96 0x507be4\n",
            "tcmalloc: large alloc 4294967296 bytes == 0x7fd680000000 @  0x7fd8626ed1e7 0x7fd85f9185e1 0x7fd85f97cc78 0x7fd85f97cf37 0x7fd81ce910c5 0x7fd81c814902 0x7fd81c814eb2 0x7fd81c7cdc3e 0x50a12f 0x50beb4 0x5095c8 0x50a2fd 0x50beb4 0x507be4 0x588c8b 0x59fd0e 0x50d256 0x507be4 0x509900 0x50a2fd 0x50beb4 0x507be4 0x509900 0x50a2fd 0x50beb4 0x5095c8 0x50a2fd 0x50beb4 0x507be4 0x508ec2 0x594a01\n",
            "network-snapshot-005000        time 22m 51s      fid50k 21.5534\n"
          ],
          "name": "stdout"
        }
      ]
    },
    {
      "cell_type": "code",
      "metadata": {
        "id": "3lysTNKk2X__",
        "outputId": "6f576862-0207-4d6d-9f70-df8afcca19d3",
        "colab": {
          "base_uri": "https://localhost:8080/"
        }
      },
      "source": [
        "!python stylegan2-ada/calc_metrics.py --network={network_pkl} --metrics=kid50k"
      ],
      "execution_count": 47,
      "outputs": [
        {
          "output_type": "stream",
          "text": [
            "Loading network from \"/content/gdrive/training-runs/00025-steam-mirror-auto_no_ramp1-kimg5000-p0.713-resumecustom-freezed10/network-snapshot-005000.pkl\"...\n",
            "Setting up TensorFlow plugin \"fused_bias_act.cu\": Loading... Done.\n",
            "Setting up TensorFlow plugin \"upfirdn_2d.cu\": Loading... Done.\n",
            "\n",
            "Gs                            Params    OutputShape         WeightShape     \n",
            "---                           ---       ---                 ---             \n",
            "latents_in                    -         (?, 512)            -               \n",
            "labels_in                     -         (?, 0)              -               \n",
            "G_mapping/Normalize           -         (?, 512)            -               \n",
            "G_mapping/Dense0              262656    (?, 512)            (512, 512)      \n",
            "G_mapping/Dense1              262656    (?, 512)            (512, 512)      \n",
            "G_mapping/Dense2              262656    (?, 512)            (512, 512)      \n",
            "G_mapping/Dense3              262656    (?, 512)            (512, 512)      \n",
            "G_mapping/Dense4              262656    (?, 512)            (512, 512)      \n",
            "G_mapping/Dense5              262656    (?, 512)            (512, 512)      \n",
            "G_mapping/Dense6              262656    (?, 512)            (512, 512)      \n",
            "G_mapping/Dense7              262656    (?, 512)            (512, 512)      \n",
            "G_mapping/Broadcast           -         (?, 14, 512)        -               \n",
            "dlatent_avg                   -         (512,)              -               \n",
            "Truncation/Lerp               -         (?, 14, 512)        -               \n",
            "G_synthesis/4x4/Const         8192      (?, 512, 4, 4)      (1, 512, 4, 4)  \n",
            "G_synthesis/4x4/Conv          2622465   (?, 512, 4, 4)      (3, 3, 512, 512)\n",
            "G_synthesis/4x4/ToRGB         264195    (?, 3, 4, 4)        (1, 1, 512, 3)  \n",
            "G_synthesis/8x8/Conv0_up      2622465   (?, 512, 8, 8)      (3, 3, 512, 512)\n",
            "G_synthesis/8x8/Conv1         2622465   (?, 512, 8, 8)      (3, 3, 512, 512)\n",
            "G_synthesis/8x8/Upsample      -         (?, 3, 8, 8)        -               \n",
            "G_synthesis/8x8/ToRGB         264195    (?, 3, 8, 8)        (1, 1, 512, 3)  \n",
            "G_synthesis/16x16/Conv0_up    2622465   (?, 512, 16, 16)    (3, 3, 512, 512)\n",
            "G_synthesis/16x16/Conv1       2622465   (?, 512, 16, 16)    (3, 3, 512, 512)\n",
            "G_synthesis/16x16/Upsample    -         (?, 3, 16, 16)      -               \n",
            "G_synthesis/16x16/ToRGB       264195    (?, 3, 16, 16)      (1, 1, 512, 3)  \n",
            "G_synthesis/32x32/Conv0_up    2622465   (?, 512, 32, 32)    (3, 3, 512, 512)\n",
            "G_synthesis/32x32/Conv1       2622465   (?, 512, 32, 32)    (3, 3, 512, 512)\n",
            "G_synthesis/32x32/Upsample    -         (?, 3, 32, 32)      -               \n",
            "G_synthesis/32x32/ToRGB       264195    (?, 3, 32, 32)      (1, 1, 512, 3)  \n",
            "G_synthesis/64x64/Conv0_up    1442561   (?, 256, 64, 64)    (3, 3, 512, 256)\n",
            "G_synthesis/64x64/Conv1       721409    (?, 256, 64, 64)    (3, 3, 256, 256)\n",
            "G_synthesis/64x64/Upsample    -         (?, 3, 64, 64)      -               \n",
            "G_synthesis/64x64/ToRGB       132099    (?, 3, 64, 64)      (1, 1, 256, 3)  \n",
            "G_synthesis/128x128/Conv0_up  426369    (?, 128, 128, 128)  (3, 3, 256, 128)\n",
            "G_synthesis/128x128/Conv1     213249    (?, 128, 128, 128)  (3, 3, 128, 128)\n",
            "G_synthesis/128x128/Upsample  -         (?, 3, 128, 128)    -               \n",
            "G_synthesis/128x128/ToRGB     66051     (?, 3, 128, 128)    (1, 1, 128, 3)  \n",
            "G_synthesis/256x256/Conv0_up  139457    (?, 64, 256, 256)   (3, 3, 128, 64) \n",
            "G_synthesis/256x256/Conv1     69761     (?, 64, 256, 256)   (3, 3, 64, 64)  \n",
            "G_synthesis/256x256/Upsample  -         (?, 3, 256, 256)    -               \n",
            "G_synthesis/256x256/ToRGB     33027     (?, 3, 256, 256)    (1, 1, 64, 3)   \n",
            "---                           ---       ---                 ---             \n",
            "Total                         24767458                                      \n",
            "\n",
            "Looking up training options from \"/content/gdrive/training-runs/00025-steam-mirror-auto_no_ramp1-kimg5000-p0.713-resumecustom-freezed10/training_options.json\"...\n",
            "\n",
            "Dataset options:\n",
            "{\n",
            "  \"path\": \"/content/datasets/steam\",\n",
            "  \"max_label_size\": 0,\n",
            "  \"resolution\": 256,\n",
            "  \"mirror_augment\": true\n",
            "}\n",
            "\n",
            "Evaluating kid50k...\n",
            "Calculating real image statistics for kid50k...\n",
            "tcmalloc: large alloc 4294967296 bytes == 0x4fe80000 @  0x7ff8dbc57001 0x7ff8d8e80765 0x7ff8d8ee4bb0 0x7ff8d8ee6a4f 0x7ff8d8f7d048 0x50a4a5 0x50cc96 0x507be4 0x508ec2 0x594a01 0x549e8f 0x5515c1 0x5a9dac 0x50a433 0x50cc96 0x507be4 0x588e5c 0x59fd0e 0x50d256 0x5095c8 0x50a2fd 0x50beb4 0x58e6f9 0x50c127 0x507be4 0x509900 0x50a2fd 0x50cc96 0x507be4 0x509900 0x50a2fd\n",
            "tcmalloc: large alloc 4294967296 bytes == 0x7ff6fa000000 @  0x7ff8dbc551e7 0x7ff8d8e805e1 0x7ff8d8ee4c78 0x7ff8d8ee4f37 0x7ff8d8f7cf28 0x50a4a5 0x50cc96 0x507be4 0x509900 0x50a2fd 0x50cc96 0x507be4 0x509900 0x50a2fd 0x50cc96 0x507be4 0x509900 0x50a2fd 0x50cc96 0x5095c8 0x50a2fd 0x50beb4 0x507be4 0x509900 0x50a2fd 0x50beb4 0x507be4 0x509900 0x50a2fd 0x50cc96 0x507be4\n",
            "tcmalloc: large alloc 4294967296 bytes == 0x7ff6fa000000 @  0x7ff8dbc551e7 0x7ff8d8e805e1 0x7ff8d8ee4c78 0x7ff8d8ee4f37 0x7ff8963f90c5 0x7ff895d7c902 0x7ff895d7ceb2 0x7ff895d35c3e 0x50a12f 0x50beb4 0x5095c8 0x50a2fd 0x50beb4 0x507be4 0x588c8b 0x59fd0e 0x50d256 0x507be4 0x509900 0x50a2fd 0x50beb4 0x507be4 0x509900 0x50a2fd 0x50beb4 0x5095c8 0x50a2fd 0x50beb4 0x507be4 0x508ec2 0x594a01\n",
            "network-snapshot-005000        time 14m 18s      kid50k 0.00810155\n"
          ],
          "name": "stdout"
        }
      ]
    },
    {
      "cell_type": "code",
      "metadata": {
        "id": "jhKBknSI2YOs",
        "outputId": "76b607bc-7913-432f-d066-891f93d53a93",
        "colab": {
          "base_uri": "https://localhost:8080/"
        }
      },
      "source": [
        "!python stylegan2-ada/calc_metrics.py --network={network_pkl} --metrics=pr50k3"
      ],
      "execution_count": 48,
      "outputs": [
        {
          "output_type": "stream",
          "text": [
            "Loading network from \"/content/gdrive/training-runs/00025-steam-mirror-auto_no_ramp1-kimg5000-p0.713-resumecustom-freezed10/network-snapshot-005000.pkl\"...\n",
            "Setting up TensorFlow plugin \"fused_bias_act.cu\": Loading... Done.\n",
            "Setting up TensorFlow plugin \"upfirdn_2d.cu\": Loading... Done.\n",
            "\n",
            "Gs                            Params    OutputShape         WeightShape     \n",
            "---                           ---       ---                 ---             \n",
            "latents_in                    -         (?, 512)            -               \n",
            "labels_in                     -         (?, 0)              -               \n",
            "G_mapping/Normalize           -         (?, 512)            -               \n",
            "G_mapping/Dense0              262656    (?, 512)            (512, 512)      \n",
            "G_mapping/Dense1              262656    (?, 512)            (512, 512)      \n",
            "G_mapping/Dense2              262656    (?, 512)            (512, 512)      \n",
            "G_mapping/Dense3              262656    (?, 512)            (512, 512)      \n",
            "G_mapping/Dense4              262656    (?, 512)            (512, 512)      \n",
            "G_mapping/Dense5              262656    (?, 512)            (512, 512)      \n",
            "G_mapping/Dense6              262656    (?, 512)            (512, 512)      \n",
            "G_mapping/Dense7              262656    (?, 512)            (512, 512)      \n",
            "G_mapping/Broadcast           -         (?, 14, 512)        -               \n",
            "dlatent_avg                   -         (512,)              -               \n",
            "Truncation/Lerp               -         (?, 14, 512)        -               \n",
            "G_synthesis/4x4/Const         8192      (?, 512, 4, 4)      (1, 512, 4, 4)  \n",
            "G_synthesis/4x4/Conv          2622465   (?, 512, 4, 4)      (3, 3, 512, 512)\n",
            "G_synthesis/4x4/ToRGB         264195    (?, 3, 4, 4)        (1, 1, 512, 3)  \n",
            "G_synthesis/8x8/Conv0_up      2622465   (?, 512, 8, 8)      (3, 3, 512, 512)\n",
            "G_synthesis/8x8/Conv1         2622465   (?, 512, 8, 8)      (3, 3, 512, 512)\n",
            "G_synthesis/8x8/Upsample      -         (?, 3, 8, 8)        -               \n",
            "G_synthesis/8x8/ToRGB         264195    (?, 3, 8, 8)        (1, 1, 512, 3)  \n",
            "G_synthesis/16x16/Conv0_up    2622465   (?, 512, 16, 16)    (3, 3, 512, 512)\n",
            "G_synthesis/16x16/Conv1       2622465   (?, 512, 16, 16)    (3, 3, 512, 512)\n",
            "G_synthesis/16x16/Upsample    -         (?, 3, 16, 16)      -               \n",
            "G_synthesis/16x16/ToRGB       264195    (?, 3, 16, 16)      (1, 1, 512, 3)  \n",
            "G_synthesis/32x32/Conv0_up    2622465   (?, 512, 32, 32)    (3, 3, 512, 512)\n",
            "G_synthesis/32x32/Conv1       2622465   (?, 512, 32, 32)    (3, 3, 512, 512)\n",
            "G_synthesis/32x32/Upsample    -         (?, 3, 32, 32)      -               \n",
            "G_synthesis/32x32/ToRGB       264195    (?, 3, 32, 32)      (1, 1, 512, 3)  \n",
            "G_synthesis/64x64/Conv0_up    1442561   (?, 256, 64, 64)    (3, 3, 512, 256)\n",
            "G_synthesis/64x64/Conv1       721409    (?, 256, 64, 64)    (3, 3, 256, 256)\n",
            "G_synthesis/64x64/Upsample    -         (?, 3, 64, 64)      -               \n",
            "G_synthesis/64x64/ToRGB       132099    (?, 3, 64, 64)      (1, 1, 256, 3)  \n",
            "G_synthesis/128x128/Conv0_up  426369    (?, 128, 128, 128)  (3, 3, 256, 128)\n",
            "G_synthesis/128x128/Conv1     213249    (?, 128, 128, 128)  (3, 3, 128, 128)\n",
            "G_synthesis/128x128/Upsample  -         (?, 3, 128, 128)    -               \n",
            "G_synthesis/128x128/ToRGB     66051     (?, 3, 128, 128)    (1, 1, 128, 3)  \n",
            "G_synthesis/256x256/Conv0_up  139457    (?, 64, 256, 256)   (3, 3, 128, 64) \n",
            "G_synthesis/256x256/Conv1     69761     (?, 64, 256, 256)   (3, 3, 64, 64)  \n",
            "G_synthesis/256x256/Upsample  -         (?, 3, 256, 256)    -               \n",
            "G_synthesis/256x256/ToRGB     33027     (?, 3, 256, 256)    (1, 1, 64, 3)   \n",
            "---                           ---       ---                 ---             \n",
            "Total                         24767458                                      \n",
            "\n",
            "Looking up training options from \"/content/gdrive/training-runs/00025-steam-mirror-auto_no_ramp1-kimg5000-p0.713-resumecustom-freezed10/training_options.json\"...\n",
            "\n",
            "Dataset options:\n",
            "{\n",
            "  \"path\": \"/content/datasets/steam\",\n",
            "  \"max_label_size\": 0,\n",
            "  \"resolution\": 256,\n",
            "  \"mirror_augment\": true\n",
            "}\n",
            "\n",
            "Evaluating pr50k3...\n",
            "Calculating real image statistics for pr50k3...\n",
            "tcmalloc: large alloc 4294967296 bytes == 0x9860a000 @  0x7fd932e66001 0x7fd93008f765 0x7fd9300f3bb0 0x7fd9300f5a4f 0x7fd93018c048 0x50a4a5 0x50cc96 0x507be4 0x508ec2 0x594a01 0x549e8f 0x5515c1 0x5a9dac 0x50a433 0x50cc96 0x507be4 0x588e5c 0x59fd0e 0x50d256 0x5095c8 0x50a2fd 0x50beb4 0x58e6f9 0x50c127 0x507be4 0x509900 0x50a2fd 0x50cc96 0x507be4 0x509900 0x50a2fd\n",
            "tcmalloc: large alloc 4294967296 bytes == 0x7fd750000000 @  0x7fd932e641e7 0x7fd93008f5e1 0x7fd9300f3c78 0x7fd9300f3f37 0x7fd93018bf28 0x50a4a5 0x50cc96 0x507be4 0x509900 0x50a2fd 0x50cc96 0x507be4 0x509900 0x50a2fd 0x50cc96 0x507be4 0x509900 0x50a2fd 0x50cc96 0x5095c8 0x50a2fd 0x50beb4 0x507be4 0x509900 0x50a2fd 0x50beb4 0x507be4 0x509900 0x50a2fd 0x50cc96 0x507be4\n",
            "tcmalloc: large alloc 4294967296 bytes == 0x7fd750000000 @  0x7fd932e641e7 0x7fd93008f5e1 0x7fd9300f3c78 0x7fd9300f3f37 0x7fd8ed6080c5 0x7fd8ecf8b902 0x7fd8ecf8beb2 0x7fd8ecf44c3e 0x50a12f 0x50beb4 0x5095c8 0x50a2fd 0x50beb4 0x507be4 0x588c8b 0x59fd0e 0x50d256 0x507be4 0x509900 0x50a2fd 0x50beb4 0x507be4 0x509900 0x50a2fd 0x50beb4 0x5095c8 0x50a2fd 0x50beb4 0x507be4 0x508ec2 0x594a01\n",
            "network-snapshot-005000        time 18m 21s      pr50k3_precision 0.2607     pr50k3_recall 0.0338\n"
          ],
          "name": "stdout"
        }
      ]
    },
    {
      "cell_type": "code",
      "metadata": {
        "id": "naKey7oJ10G7",
        "outputId": "8cfa79e6-2295-4fe0-b524-c46d60fd9509",
        "colab": {
          "base_uri": "https://localhost:8080/"
        }
      },
      "source": [
        "!python stylegan2-ada/calc_metrics.py --network={network_pkl} --metrics=ppl2_wend"
      ],
      "execution_count": 49,
      "outputs": [
        {
          "output_type": "stream",
          "text": [
            "Loading network from \"/content/gdrive/training-runs/00025-steam-mirror-auto_no_ramp1-kimg5000-p0.713-resumecustom-freezed10/network-snapshot-005000.pkl\"...\n",
            "Setting up TensorFlow plugin \"fused_bias_act.cu\": Loading... Done.\n",
            "Setting up TensorFlow plugin \"upfirdn_2d.cu\": Loading... Done.\n",
            "\n",
            "Gs                            Params    OutputShape         WeightShape     \n",
            "---                           ---       ---                 ---             \n",
            "latents_in                    -         (?, 512)            -               \n",
            "labels_in                     -         (?, 0)              -               \n",
            "G_mapping/Normalize           -         (?, 512)            -               \n",
            "G_mapping/Dense0              262656    (?, 512)            (512, 512)      \n",
            "G_mapping/Dense1              262656    (?, 512)            (512, 512)      \n",
            "G_mapping/Dense2              262656    (?, 512)            (512, 512)      \n",
            "G_mapping/Dense3              262656    (?, 512)            (512, 512)      \n",
            "G_mapping/Dense4              262656    (?, 512)            (512, 512)      \n",
            "G_mapping/Dense5              262656    (?, 512)            (512, 512)      \n",
            "G_mapping/Dense6              262656    (?, 512)            (512, 512)      \n",
            "G_mapping/Dense7              262656    (?, 512)            (512, 512)      \n",
            "G_mapping/Broadcast           -         (?, 14, 512)        -               \n",
            "dlatent_avg                   -         (512,)              -               \n",
            "Truncation/Lerp               -         (?, 14, 512)        -               \n",
            "G_synthesis/4x4/Const         8192      (?, 512, 4, 4)      (1, 512, 4, 4)  \n",
            "G_synthesis/4x4/Conv          2622465   (?, 512, 4, 4)      (3, 3, 512, 512)\n",
            "G_synthesis/4x4/ToRGB         264195    (?, 3, 4, 4)        (1, 1, 512, 3)  \n",
            "G_synthesis/8x8/Conv0_up      2622465   (?, 512, 8, 8)      (3, 3, 512, 512)\n",
            "G_synthesis/8x8/Conv1         2622465   (?, 512, 8, 8)      (3, 3, 512, 512)\n",
            "G_synthesis/8x8/Upsample      -         (?, 3, 8, 8)        -               \n",
            "G_synthesis/8x8/ToRGB         264195    (?, 3, 8, 8)        (1, 1, 512, 3)  \n",
            "G_synthesis/16x16/Conv0_up    2622465   (?, 512, 16, 16)    (3, 3, 512, 512)\n",
            "G_synthesis/16x16/Conv1       2622465   (?, 512, 16, 16)    (3, 3, 512, 512)\n",
            "G_synthesis/16x16/Upsample    -         (?, 3, 16, 16)      -               \n",
            "G_synthesis/16x16/ToRGB       264195    (?, 3, 16, 16)      (1, 1, 512, 3)  \n",
            "G_synthesis/32x32/Conv0_up    2622465   (?, 512, 32, 32)    (3, 3, 512, 512)\n",
            "G_synthesis/32x32/Conv1       2622465   (?, 512, 32, 32)    (3, 3, 512, 512)\n",
            "G_synthesis/32x32/Upsample    -         (?, 3, 32, 32)      -               \n",
            "G_synthesis/32x32/ToRGB       264195    (?, 3, 32, 32)      (1, 1, 512, 3)  \n",
            "G_synthesis/64x64/Conv0_up    1442561   (?, 256, 64, 64)    (3, 3, 512, 256)\n",
            "G_synthesis/64x64/Conv1       721409    (?, 256, 64, 64)    (3, 3, 256, 256)\n",
            "G_synthesis/64x64/Upsample    -         (?, 3, 64, 64)      -               \n",
            "G_synthesis/64x64/ToRGB       132099    (?, 3, 64, 64)      (1, 1, 256, 3)  \n",
            "G_synthesis/128x128/Conv0_up  426369    (?, 128, 128, 128)  (3, 3, 256, 128)\n",
            "G_synthesis/128x128/Conv1     213249    (?, 128, 128, 128)  (3, 3, 128, 128)\n",
            "G_synthesis/128x128/Upsample  -         (?, 3, 128, 128)    -               \n",
            "G_synthesis/128x128/ToRGB     66051     (?, 3, 128, 128)    (1, 1, 128, 3)  \n",
            "G_synthesis/256x256/Conv0_up  139457    (?, 64, 256, 256)   (3, 3, 128, 64) \n",
            "G_synthesis/256x256/Conv1     69761     (?, 64, 256, 256)   (3, 3, 64, 64)  \n",
            "G_synthesis/256x256/Upsample  -         (?, 3, 256, 256)    -               \n",
            "G_synthesis/256x256/ToRGB     33027     (?, 3, 256, 256)    (1, 1, 64, 3)   \n",
            "---                           ---       ---                 ---             \n",
            "Total                         24767458                                      \n",
            "\n",
            "Looking up training options from \"/content/gdrive/training-runs/00025-steam-mirror-auto_no_ramp1-kimg5000-p0.713-resumecustom-freezed10/training_options.json\"...\n",
            "\n",
            "Dataset options:\n",
            "{\n",
            "  \"path\": \"/content/datasets/steam\",\n",
            "  \"max_label_size\": 0,\n",
            "  \"resolution\": 256,\n",
            "  \"mirror_augment\": true\n",
            "}\n",
            "\n",
            "Evaluating ppl2_wend...\n",
            "tcmalloc: large alloc 4294967296 bytes == 0x4f402000 @  0x7f2002a1a001 0x7f1fffc43765 0x7f1fffca7bb0 0x7f1fffca9a4f 0x7f1fffd40048 0x50a4a5 0x50cc96 0x507be4 0x508ec2 0x594a01 0x549e8f 0x5515c1 0x5a9dac 0x50a433 0x50cc96 0x507be4 0x588e5c 0x59fd0e 0x50d256 0x5095c8 0x50a2fd 0x50beb4 0x5095c8 0x50a2fd 0x50beb4 0x507be4 0x509900 0x50a2fd 0x50cc96 0x507be4 0x509900\n",
            "tcmalloc: large alloc 4294967296 bytes == 0x7f1e18000000 @  0x7f2002a181e7 0x7f1fffc435e1 0x7f1fffca7c78 0x7f1fffca7f37 0x7f1fffd3ff28 0x50a4a5 0x50cc96 0x507be4 0x509900 0x50a2fd 0x50cc96 0x507be4 0x509900 0x50a2fd 0x50cc96 0x507be4 0x509900 0x50a2fd 0x50cc96 0x5095c8 0x50a2fd 0x50beb4 0x507be4 0x509900 0x50a2fd 0x50beb4 0x507be4 0x509900 0x50a2fd 0x50cc96 0x507be4\n",
            "tcmalloc: large alloc 4294967296 bytes == 0x7f1e18000000 @  0x7f2002a181e7 0x7f1fffc435e1 0x7f1fffca7c78 0x7f1fffca7f37 0x7f1fbd1bc0c5 0x7f1fbcb3f902 0x7f1fbcb3feb2 0x7f1fbcaf8c3e 0x50a12f 0x50beb4 0x5095c8 0x50a2fd 0x50beb4 0x507be4 0x588c8b 0x59fd0e 0x50d256 0x507be4 0x509900 0x50a2fd 0x50beb4 0x507be4 0x509900 0x50a2fd 0x50beb4 0x5095c8 0x50a2fd 0x50beb4 0x507be4 0x508ec2 0x594a01\n",
            "network-snapshot-005000        time 22m 57s      ppl2_wend 192.6224\n"
          ],
          "name": "stdout"
        }
      ]
    },
    {
      "cell_type": "markdown",
      "metadata": {
        "id": "IUM1b1vHer8O"
      },
      "source": [
        "### Compute metrics for important snapshots (every ~ 1 kimg)\n",
        "\n",
        "This is necessary to plot the metrics over the course of the training."
      ]
    },
    {
      "cell_type": "code",
      "metadata": {
        "id": "zs4TL73qeyfN"
      },
      "source": [
        "snapshots = [\n",
        "    '00018-steam-mirror-auto_no_ramp1-kimg5000-p0.63-resumecustom-freezed10/network-snapshot-001014.pkl',\n",
        "    '00020-steam-mirror-auto_no_ramp1-kimg5000-p0.66-resumecustom-freezed10/network-snapshot-002006.pkl',\n",
        "    '00022-steam-mirror-auto_no_ramp1-kimg5000-p0.687-resumecustom-freezed10/network-snapshot-003020.pkl',\n",
        "    '00023-steam-mirror-auto_no_ramp1-kimg5000-p0.656-resumecustom-freezed10/network-snapshot-004011.pkl',\n",
        "    '00025-steam-mirror-auto_no_ramp1-kimg5000-p0.713-resumecustom-freezed10/network-snapshot-005000.pkl',\n",
        "    ]"
      ],
      "execution_count": 57,
      "outputs": []
    },
    {
      "cell_type": "code",
      "metadata": {
        "id": "0T_vvyepe5YE",
        "outputId": "cdc52ce9-0640-4414-deb5-e050a27953a5",
        "colab": {
          "base_uri": "https://localhost:8080/"
        }
      },
      "source": [
        "from pathlib import Path\n",
        "\n",
        "snapshots_without_the_last_one = snapshots[:-1]\n",
        "\n",
        "for snapshot in snapshots_without_the_last_one:\n",
        "  current_network_pkl = f'{gdrive_root}{result_root_folder}{snapshot}'\n",
        "  \n",
        "  if Path(current_network_pkl).exists():\n",
        "    # total computation time: ~ 50 min\n",
        "    !python stylegan2-ada/calc_metrics.py --network={current_network_pkl} \\\n",
        "     --metrics=fid50k_full,kid50k_full,pr50k3_full,is50k"
      ],
      "execution_count": null,
      "outputs": [
        {
          "output_type": "stream",
          "text": [
            "Loading network from \"/content/gdrive/training-runs/00018-steam-mirror-auto_no_ramp1-kimg5000-p0.63-resumecustom-freezed10/network-snapshot-001014.pkl\"...\n",
            "Setting up TensorFlow plugin \"fused_bias_act.cu\": Loading... Done.\n",
            "Setting up TensorFlow plugin \"upfirdn_2d.cu\": Loading... Done.\n",
            "\n",
            "Gs                            Params    OutputShape         WeightShape     \n",
            "---                           ---       ---                 ---             \n",
            "latents_in                    -         (?, 512)            -               \n",
            "labels_in                     -         (?, 0)              -               \n",
            "G_mapping/Normalize           -         (?, 512)            -               \n",
            "G_mapping/Dense0              262656    (?, 512)            (512, 512)      \n",
            "G_mapping/Dense1              262656    (?, 512)            (512, 512)      \n",
            "G_mapping/Dense2              262656    (?, 512)            (512, 512)      \n",
            "G_mapping/Dense3              262656    (?, 512)            (512, 512)      \n",
            "G_mapping/Dense4              262656    (?, 512)            (512, 512)      \n",
            "G_mapping/Dense5              262656    (?, 512)            (512, 512)      \n",
            "G_mapping/Dense6              262656    (?, 512)            (512, 512)      \n",
            "G_mapping/Dense7              262656    (?, 512)            (512, 512)      \n",
            "G_mapping/Broadcast           -         (?, 14, 512)        -               \n",
            "dlatent_avg                   -         (512,)              -               \n",
            "Truncation/Lerp               -         (?, 14, 512)        -               \n",
            "G_synthesis/4x4/Const         8192      (?, 512, 4, 4)      (1, 512, 4, 4)  \n",
            "G_synthesis/4x4/Conv          2622465   (?, 512, 4, 4)      (3, 3, 512, 512)\n",
            "G_synthesis/4x4/ToRGB         264195    (?, 3, 4, 4)        (1, 1, 512, 3)  \n",
            "G_synthesis/8x8/Conv0_up      2622465   (?, 512, 8, 8)      (3, 3, 512, 512)\n",
            "G_synthesis/8x8/Conv1         2622465   (?, 512, 8, 8)      (3, 3, 512, 512)\n",
            "G_synthesis/8x8/Upsample      -         (?, 3, 8, 8)        -               \n",
            "G_synthesis/8x8/ToRGB         264195    (?, 3, 8, 8)        (1, 1, 512, 3)  \n",
            "G_synthesis/16x16/Conv0_up    2622465   (?, 512, 16, 16)    (3, 3, 512, 512)\n",
            "G_synthesis/16x16/Conv1       2622465   (?, 512, 16, 16)    (3, 3, 512, 512)\n",
            "G_synthesis/16x16/Upsample    -         (?, 3, 16, 16)      -               \n",
            "G_synthesis/16x16/ToRGB       264195    (?, 3, 16, 16)      (1, 1, 512, 3)  \n",
            "G_synthesis/32x32/Conv0_up    2622465   (?, 512, 32, 32)    (3, 3, 512, 512)\n",
            "G_synthesis/32x32/Conv1       2622465   (?, 512, 32, 32)    (3, 3, 512, 512)\n",
            "G_synthesis/32x32/Upsample    -         (?, 3, 32, 32)      -               \n",
            "G_synthesis/32x32/ToRGB       264195    (?, 3, 32, 32)      (1, 1, 512, 3)  \n",
            "G_synthesis/64x64/Conv0_up    1442561   (?, 256, 64, 64)    (3, 3, 512, 256)\n",
            "G_synthesis/64x64/Conv1       721409    (?, 256, 64, 64)    (3, 3, 256, 256)\n",
            "G_synthesis/64x64/Upsample    -         (?, 3, 64, 64)      -               \n",
            "G_synthesis/64x64/ToRGB       132099    (?, 3, 64, 64)      (1, 1, 256, 3)  \n",
            "G_synthesis/128x128/Conv0_up  426369    (?, 128, 128, 128)  (3, 3, 256, 128)\n",
            "G_synthesis/128x128/Conv1     213249    (?, 128, 128, 128)  (3, 3, 128, 128)\n",
            "G_synthesis/128x128/Upsample  -         (?, 3, 128, 128)    -               \n",
            "G_synthesis/128x128/ToRGB     66051     (?, 3, 128, 128)    (1, 1, 128, 3)  \n",
            "G_synthesis/256x256/Conv0_up  139457    (?, 64, 256, 256)   (3, 3, 128, 64) \n",
            "G_synthesis/256x256/Conv1     69761     (?, 64, 256, 256)   (3, 3, 64, 64)  \n",
            "G_synthesis/256x256/Upsample  -         (?, 3, 256, 256)    -               \n",
            "G_synthesis/256x256/ToRGB     33027     (?, 3, 256, 256)    (1, 1, 64, 3)   \n",
            "---                           ---       ---                 ---             \n",
            "Total                         24767458                                      \n",
            "\n",
            "Looking up training options from \"/content/gdrive/training-runs/00018-steam-mirror-auto_no_ramp1-kimg5000-p0.63-resumecustom-freezed10/training_options.json\"...\n",
            "\n",
            "Dataset options:\n",
            "{\n",
            "  \"path\": \"/content/datasets/steam\",\n",
            "  \"max_label_size\": 0,\n",
            "  \"resolution\": 256,\n",
            "  \"mirror_augment\": true\n",
            "}\n",
            "\n",
            "Evaluating fid50k_full...\n",
            "tcmalloc: large alloc 4294967296 bytes == 0x526a0000 @  0x7f399d716001 0x7f399a93f765 0x7f399a9a3bb0 0x7f399a9a5a4f 0x7f399aa3c048 0x50a4a5 0x50cc96 0x507be4 0x508ec2 0x594a01 0x549e8f 0x5515c1 0x5a9dac 0x50a433 0x50cc96 0x507be4 0x588e5c 0x59fd0e 0x50d256 0x5095c8 0x50a2fd 0x50beb4 0x5095c8 0x50a2fd 0x50beb4 0x507be4 0x509900 0x50a2fd 0x50cc96 0x507be4 0x509900\n",
            "tcmalloc: large alloc 4294967296 bytes == 0x7f37a2000000 @  0x7f399d7141e7 0x7f399a93f5e1 0x7f399a9a3c78 0x7f399a9a3f37 0x7f399aa3bf28 0x50a4a5 0x50cc96 0x507be4 0x509900 0x50a2fd 0x50cc96 0x507be4 0x509900 0x50a2fd 0x50cc96 0x507be4 0x509900 0x50a2fd 0x50cc96 0x5095c8 0x50a2fd 0x50beb4 0x507be4 0x509900 0x50a2fd 0x50beb4 0x507be4 0x509900 0x50a2fd 0x50cc96 0x507be4\n",
            "tcmalloc: large alloc 4294967296 bytes == 0x7f37a2000000 @  0x7f399d7141e7 0x7f399a93f5e1 0x7f399a9a3c78 0x7f399a9a3f37 0x7f3957eb80c5 0x7f395783b902 0x7f395783beb2 0x7f39577f4c3e 0x50a12f 0x50beb4 0x5095c8 0x50a2fd 0x50beb4 0x507be4 0x588c8b 0x59fd0e 0x50d256 0x507be4 0x509900 0x50a2fd 0x50beb4 0x507be4 0x509900 0x50a2fd 0x50beb4 0x5095c8 0x50a2fd 0x50beb4 0x507be4 0x508ec2 0x594a01\n",
            "network-snapshot-001014        time 10m 01s      fid50k_full 25.1772\n",
            "\n",
            "Evaluating kid50k_full...\n",
            "tcmalloc: large alloc 4294967296 bytes == 0x526a0000 @  0x7f399d716001 0x7f399a93f765 0x7f399a9a3bb0 0x7f399a9a5a4f 0x7f399aa3c048 0x50a4a5 0x50cc96 0x507be4 0x508ec2 0x594a01 0x549e8f 0x5515c1 0x5a9dac 0x50a433 0x50cc96 0x507be4 0x588e5c 0x59fd0e 0x50d256 0x5095c8 0x50a2fd 0x50beb4 0x5095c8 0x50a2fd 0x50beb4 0x507be4 0x509900 0x50a2fd 0x50cc96 0x507be4 0x509900\n",
            "tcmalloc: large alloc 4294967296 bytes == 0x7f34c0dbe000 @  0x7f399d7141e7 0x7f399a93f5e1 0x7f399a9a3c78 0x7f399a9a3f37 0x7f399aa3bf28 0x50a4a5 0x50cc96 0x507be4 0x509900 0x50a2fd 0x50cc96 0x507be4 0x509900 0x50a2fd 0x50cc96 0x507be4 0x509900 0x50a2fd 0x50cc96 0x5095c8 0x50a2fd 0x50beb4 0x507be4 0x509900 0x50a2fd 0x50beb4 0x507be4 0x509900 0x50a2fd 0x50cc96 0x507be4\n",
            "tcmalloc: large alloc 4294967296 bytes == 0x7f34c0dbe000 @  0x7f399d7141e7 0x7f399a93f5e1 0x7f399a9a3c78 0x7f399a9a3f37 0x7f3957eb80c5 0x7f395783b902 0x7f395783beb2 0x7f39577f4c3e 0x50a12f 0x50beb4 0x5095c8 0x50a2fd 0x50beb4 0x507be4 0x588c8b 0x59fd0e 0x50d256 0x507be4 0x509900 0x50a2fd 0x50beb4 0x507be4 0x509900 0x50a2fd 0x50beb4 0x5095c8 0x50a2fd 0x50beb4 0x507be4 0x508ec2 0x594a01\n",
            "network-snapshot-001014        time 10m 05s      kid50k_full 0.00883175\n",
            "\n",
            "Evaluating pr50k3_full...\n",
            "tcmalloc: large alloc 4294967296 bytes == 0x526a0000 @  0x7f399d716001 0x7f399a93f765 0x7f399a9a3bb0 0x7f399a9a5a4f 0x7f399aa3c048 0x50a4a5 0x50cc96 0x507be4 0x508ec2 0x594a01 0x549e8f 0x5515c1 0x5a9dac 0x50a433 0x50cc96 0x507be4 0x588e5c 0x59fd0e 0x50d256 0x5095c8 0x50a2fd 0x50beb4 0x5095c8 0x50a2fd 0x50beb4 0x507be4 0x509900 0x50a2fd 0x50cc96 0x507be4 0x509900\n",
            "tcmalloc: large alloc 4294967296 bytes == 0x7f34c0dbe000 @  0x7f399d7141e7 0x7f399a93f5e1 0x7f399a9a3c78 0x7f399a9a3f37 0x7f399aa3bf28 0x50a4a5 0x50cc96 0x507be4 0x509900 0x50a2fd 0x50cc96 0x507be4 0x509900 0x50a2fd 0x50cc96 0x507be4 0x509900 0x50a2fd 0x50cc96 0x5095c8 0x50a2fd 0x50beb4 0x507be4 0x509900 0x50a2fd 0x50beb4 0x507be4 0x509900 0x50a2fd 0x50cc96 0x507be4\n",
            "tcmalloc: large alloc 4294967296 bytes == 0x7f34c0dbe000 @  0x7f399d7141e7 0x7f399a93f5e1 0x7f399a9a3c78 0x7f399a9a3f37 0x7f3957eb80c5 0x7f395783b902 0x7f395783beb2 0x7f39577f4c3e 0x50a12f 0x50beb4 0x5095c8 0x50a2fd 0x50beb4 0x507be4 0x588c8b 0x59fd0e 0x50d256 0x507be4 0x509900 0x50a2fd 0x50beb4 0x507be4 0x509900 0x50a2fd 0x50beb4 0x5095c8 0x50a2fd 0x50beb4 0x507be4 0x508ec2 0x594a01\n",
            "network-snapshot-001014        time 11m 35s      pr50k3_full_precision 0.5940     pr50k3_full_recall 0.0204\n",
            "\n",
            "Evaluating is50k...\n",
            "tcmalloc: large alloc 4294967296 bytes == 0x526a0000 @  0x7f399d716001 0x7f399a93f765 0x7f399a9a3bb0 0x7f399a9a5a4f 0x7f399aa3c048 0x50a4a5 0x50cc96 0x507be4 0x508ec2 0x594a01 0x549e8f 0x5515c1 0x5a9dac 0x50a433 0x50cc96 0x507be4 0x588e5c 0x59fd0e 0x50d256 0x5095c8 0x50a2fd 0x50beb4 0x5095c8 0x50a2fd 0x50beb4 0x507be4 0x509900 0x50a2fd 0x50cc96 0x507be4 0x509900\n",
            "tcmalloc: large alloc 4294967296 bytes == 0x7f34c0dbe000 @  0x7f399d7141e7 0x7f399a93f5e1 0x7f399a9a3c78 0x7f399a9a3f37 0x7f399aa3bf28 0x50a4a5 0x50cc96 0x507be4 0x509900 0x50a2fd 0x50cc96 0x507be4 0x509900 0x50a2fd 0x50cc96 0x507be4 0x509900 0x50a2fd 0x50cc96 0x5095c8 0x50a2fd 0x50beb4 0x507be4 0x509900 0x50a2fd 0x50beb4 0x507be4 0x509900 0x50a2fd 0x50cc96 0x507be4\n",
            "tcmalloc: large alloc 4294967296 bytes == 0x7f34c0dbe000 @  0x7f399d7141e7 0x7f399a93f5e1 0x7f399a9a3c78 0x7f399a9a3f37 0x7f3957eb80c5 0x7f395783b902 0x7f395783beb2 0x7f39577f4c3e 0x50a12f 0x50beb4 0x5095c8 0x50a2fd 0x50beb4 0x507be4 0x588c8b 0x59fd0e 0x50d256 0x507be4 0x509900 0x50a2fd 0x50beb4 0x507be4 0x509900 0x50a2fd 0x50beb4 0x5095c8 0x50a2fd 0x50beb4 0x507be4 0x508ec2 0x594a01\n"
          ],
          "name": "stdout"
        }
      ]
    },
    {
      "cell_type": "markdown",
      "metadata": {
        "id": "NLtl-PxCFISw"
      },
      "source": [
        "## Applications"
      ]
    },
    {
      "cell_type": "markdown",
      "metadata": {
        "id": "EOzeEv29B4ml"
      },
      "source": [
        "#### Average image\n",
        "\n",
        "Reference: https://gist.github.com/woctezuma/139cedb92a94c5ef2675cc9f06851b31"
      ]
    },
    {
      "cell_type": "code",
      "metadata": {
        "id": "bV051ifBB_RT",
        "outputId": "9cc958b9-d738-4edd-fc66-2ce503e345b5",
        "colab": {
          "base_uri": "https://localhost:8080/"
        }
      },
      "source": [
        "%cd /content/stylegan2-ada/"
      ],
      "execution_count": 19,
      "outputs": [
        {
          "output_type": "stream",
          "text": [
            "/content/stylegan2-ada\n"
          ],
          "name": "stdout"
        }
      ]
    },
    {
      "cell_type": "markdown",
      "metadata": {
        "id": "kKt9poYK_leN"
      },
      "source": [
        "##### Get latent average"
      ]
    },
    {
      "cell_type": "code",
      "metadata": {
        "id": "oBwhTLURB6jy",
        "outputId": "7de127f1-3afb-41cd-b463-a075ef685b6f",
        "colab": {
          "base_uri": "https://localhost:8080/"
        }
      },
      "source": [
        "import dnnlib\n",
        "import pickle\n",
        "\n",
        "from dnnlib import tflib\n",
        "\n",
        "# Reference: https://github.com/NVlabs/stylegan2-ada/blob/a831de288449690d5d81c768857fbd5b5052e8d3/generate.py#L25-L28\n",
        "dnnlib.tflib.init_tf()\n",
        "print('Loading networks from \"%s\"...' % network_pkl)\n",
        "with dnnlib.util.open_url(network_pkl) as fp:\n",
        "    _, _, Gs = pickle.load(fp)\n",
        "\n",
        "dlatents_var = Gs.get_var('dlatent_avg')    "
      ],
      "execution_count": 20,
      "outputs": [
        {
          "output_type": "stream",
          "text": [
            "Loading networks from \"/content/gdrive/training-runs/00025-steam-mirror-auto_no_ramp1-kimg5000-p0.713-resumecustom-freezed10/network-snapshot-005000.pkl\"...\n"
          ],
          "name": "stdout"
        }
      ]
    },
    {
      "cell_type": "markdown",
      "metadata": {
        "id": "hZmbFpro_qSs"
      },
      "source": [
        "##### Synthesize image average"
      ]
    },
    {
      "cell_type": "code",
      "metadata": {
        "id": "1aqAj16fG4Zg"
      },
      "source": [
        "import numpy as np\n",
        "\n",
        "# Reference: https://github.com/NVlabs/stylegan2-ada/blob/ffa7883384c1e75297c7a1352fa392adf8a5c7d1/projector.py#L101\n",
        "dlatents = np.tile(dlatents_var, [1, Gs.components.synthesis.input_shape[1], 1])"
      ],
      "execution_count": 21,
      "outputs": []
    },
    {
      "cell_type": "code",
      "metadata": {
        "id": "Ut85_QmNGdo8"
      },
      "source": [
        "import dnnlib\n",
        "import dnnlib.tflib as tflib\n",
        "\n",
        "Gs_syn_kwargs = dnnlib.EasyDict()\n",
        "Gs_syn_kwargs.output_transform = dict(func=tflib.convert_images_to_uint8,\n",
        "                                      nchw_to_nhwc=True)\n",
        "Gs_syn_kwargs.randomize_noise = False"
      ],
      "execution_count": 22,
      "outputs": []
    },
    {
      "cell_type": "code",
      "metadata": {
        "id": "wotCWS8pHurP"
      },
      "source": [
        "# Reference: https://github.com/NVlabs/stylegan2-ada/blob/a831de288449690d5d81c768857fbd5b5052e8d3/generate.py#L36-L37\n",
        "assert dlatents.shape[1:] == (14, 512) # [N, 14, 512]\n",
        "image = Gs.components.synthesis.run(dlatents, **Gs_syn_kwargs)[0]"
      ],
      "execution_count": 23,
      "outputs": []
    },
    {
      "cell_type": "markdown",
      "metadata": {
        "id": "N8e5dMGj_vIc"
      },
      "source": [
        "##### Display and save the image"
      ]
    },
    {
      "cell_type": "code",
      "metadata": {
        "id": "9HwZzpIkHOki"
      },
      "source": [
        "from pathlib import Path\n",
        "\n",
        "import PIL.Image\n",
        "\n",
        "fname = Path(network_pkl).name.replace('.pkl', '.jpg')\n",
        "img = PIL.Image.fromarray(image, 'RGB')\n",
        "img.save(fname)"
      ],
      "execution_count": 24,
      "outputs": []
    },
    {
      "cell_type": "code",
      "metadata": {
        "id": "Yp9lxyWVTj0A",
        "outputId": "29253a94-1a5f-46bd-f17e-dfc513d3bfce",
        "colab": {
          "base_uri": "https://localhost:8080/",
          "height": 273
        }
      },
      "source": [
        "img"
      ],
      "execution_count": 25,
      "outputs": [
        {
          "output_type": "execute_result",
          "data": {
            "image/png": "[encoded data removed]",
            "text/plain": [
              "<PIL.Image.Image image mode=RGB size=256x256 at 0x7F97BA243D68>"
            ]
          },
          "metadata": {
            "tags": []
          },
          "execution_count": 25
        }
      ]
    },
    {
      "cell_type": "markdown",
      "metadata": {
        "id": "-pE27_X4QkY-"
      },
      "source": [
        "### Generate random images"
      ]
    },
    {
      "cell_type": "code",
      "metadata": {
        "id": "d9eroQor-Y3-",
        "outputId": "d5036361-828e-462c-80dd-77f235edc169",
        "colab": {
          "base_uri": "https://localhost:8080/"
        }
      },
      "source": [
        "%cd /content/"
      ],
      "execution_count": 26,
      "outputs": [
        {
          "output_type": "stream",
          "text": [
            "/content\n"
          ],
          "name": "stdout"
        }
      ]
    },
    {
      "cell_type": "code",
      "metadata": {
        "id": "3j_u-3WIIs8r"
      },
      "source": [
        "num_images = 10"
      ],
      "execution_count": 27,
      "outputs": []
    },
    {
      "cell_type": "markdown",
      "metadata": {
        "id": "kZewQiv7ahS7"
      },
      "source": [
        "#### Without truncation"
      ]
    },
    {
      "cell_type": "code",
      "metadata": {
        "id": "ddXsQTuPM8ef",
        "outputId": "11e77815-0631-4633-a730-5b7c99467914",
        "colab": {
          "base_uri": "https://localhost:8080/"
        }
      },
      "source": [
        "!python stylegan2-ada/generate.py --network={network_pkl} --outdir=out --trunc=1.0 --seeds=0-{num_images-1}"
      ],
      "execution_count": 28,
      "outputs": [
        {
          "output_type": "stream",
          "text": [
            "Loading networks from \"/content/gdrive/training-runs/00025-steam-mirror-auto_no_ramp1-kimg5000-p0.713-resumecustom-freezed10/network-snapshot-005000.pkl\"...\n",
            "Setting up TensorFlow plugin \"fused_bias_act.cu\": Loading... Done.\n",
            "Setting up TensorFlow plugin \"upfirdn_2d.cu\": Loading... Done.\n",
            "Generating image for seed 0 (0/10) ...\n",
            "Generating image for seed 1 (1/10) ...\n",
            "Generating image for seed 2 (2/10) ...\n",
            "Generating image for seed 3 (3/10) ...\n",
            "Generating image for seed 4 (4/10) ...\n",
            "Generating image for seed 5 (5/10) ...\n",
            "Generating image for seed 6 (6/10) ...\n",
            "Generating image for seed 7 (7/10) ...\n",
            "Generating image for seed 8 (8/10) ...\n",
            "Generating image for seed 9 (9/10) ...\n"
          ],
          "name": "stdout"
        }
      ]
    },
    {
      "cell_type": "markdown",
      "metadata": {
        "id": "Gw0K1l4QQmQe"
      },
      "source": [
        "#### With truncation"
      ]
    },
    {
      "cell_type": "code",
      "metadata": {
        "id": "90rH-KlyNKLV",
        "outputId": "cef931d9-c24e-4eac-f8c7-cee4f5cfbd52",
        "colab": {
          "base_uri": "https://localhost:8080/"
        }
      },
      "source": [
        "!python stylegan2-ada/generate.py --network={network_pkl} --outdir=out --trunc=0.5 --seeds=0-{num_images-1}"
      ],
      "execution_count": 29,
      "outputs": [
        {
          "output_type": "stream",
          "text": [
            "Loading networks from \"/content/gdrive/training-runs/00025-steam-mirror-auto_no_ramp1-kimg5000-p0.713-resumecustom-freezed10/network-snapshot-005000.pkl\"...\n",
            "Setting up TensorFlow plugin \"fused_bias_act.cu\": Loading... Done.\n",
            "Setting up TensorFlow plugin \"upfirdn_2d.cu\": Loading... Done.\n",
            "Generating image for seed 0 (0/10) ...\n",
            "Generating image for seed 1 (1/10) ...\n",
            "Generating image for seed 2 (2/10) ...\n",
            "Generating image for seed 3 (3/10) ...\n",
            "Generating image for seed 4 (4/10) ...\n",
            "Generating image for seed 5 (5/10) ...\n",
            "Generating image for seed 6 (6/10) ...\n",
            "Generating image for seed 7 (7/10) ...\n",
            "Generating image for seed 8 (8/10) ...\n",
            "Generating image for seed 9 (9/10) ...\n"
          ],
          "name": "stdout"
        }
      ]
    },
    {
      "cell_type": "markdown",
      "metadata": {
        "id": "-xIKBmPVQpZ1"
      },
      "source": [
        "### Style Mixing"
      ]
    },
    {
      "cell_type": "code",
      "metadata": {
        "id": "L2AMiwvn-awt",
        "outputId": "ae415311-470e-404b-d64a-78743b4698fb",
        "colab": {
          "base_uri": "https://localhost:8080/"
        }
      },
      "source": [
        "%cd /content/"
      ],
      "execution_count": 30,
      "outputs": [
        {
          "output_type": "stream",
          "text": [
            "/content\n"
          ],
          "name": "stdout"
        }
      ]
    },
    {
      "cell_type": "markdown",
      "metadata": {
        "id": "IrLjCo4caabi"
      },
      "source": [
        "#### Without truncation"
      ]
    },
    {
      "cell_type": "code",
      "metadata": {
        "id": "zCZCMPIPNbNO",
        "outputId": "b1abe126-f8ea-4d44-b409-b47c24277f15",
        "colab": {
          "base_uri": "https://localhost:8080/"
        }
      },
      "source": [
        "!python stylegan2-ada/style_mixing.py --network={network_pkl} --outdir=out --trunc=1.0 --rows=1,41,208,322,424,939 --cols=1,41,208,322,424,939"
      ],
      "execution_count": 31,
      "outputs": [
        {
          "output_type": "stream",
          "text": [
            "Loading networks from \"/content/gdrive/training-runs/00025-steam-mirror-auto_no_ramp1-kimg5000-p0.713-resumecustom-freezed10/network-snapshot-005000.pkl\"...\n",
            "Setting up TensorFlow plugin \"fused_bias_act.cu\": Loading... Done.\n",
            "Setting up TensorFlow plugin \"upfirdn_2d.cu\": Loading... Done.\n",
            "Generating W vectors...\n",
            "Generating images...\n",
            "Generating style-mixed images...\n",
            "Saving images...\n",
            "Saving image grid...\n"
          ],
          "name": "stdout"
        }
      ]
    },
    {
      "cell_type": "markdown",
      "metadata": {
        "id": "LANsXlv6aYIE"
      },
      "source": [
        "#### With truncation"
      ]
    },
    {
      "cell_type": "code",
      "metadata": {
        "id": "vXOdbtjdaUFu",
        "outputId": "357cc932-c719-4600-9a20-87bbbb0edc39",
        "colab": {
          "base_uri": "https://localhost:8080/"
        }
      },
      "source": [
        "!python stylegan2-ada/style_mixing.py --network={network_pkl} --outdir=out --trunc=0.5 --rows=1,41,208,322,424,939 --cols=1,41,208,322,424,939"
      ],
      "execution_count": 32,
      "outputs": [
        {
          "output_type": "stream",
          "text": [
            "Loading networks from \"/content/gdrive/training-runs/00025-steam-mirror-auto_no_ramp1-kimg5000-p0.713-resumecustom-freezed10/network-snapshot-005000.pkl\"...\n",
            "Setting up TensorFlow plugin \"fused_bias_act.cu\": Loading... Done.\n",
            "Setting up TensorFlow plugin \"upfirdn_2d.cu\": Loading... Done.\n",
            "Generating W vectors...\n",
            "Generating images...\n",
            "Generating style-mixed images...\n",
            "Saving images...\n",
            "Saving image grid...\n"
          ],
          "name": "stdout"
        }
      ]
    },
    {
      "cell_type": "markdown",
      "metadata": {
        "id": "bkaWzCnCQ86s"
      },
      "source": [
        "### Projection of real Steam banners to latent space\n",
        "\n",
        "Reference: https://github.com/NVlabs/stylegan2-ada#projecting-images-to-latent-space"
      ]
    },
    {
      "cell_type": "code",
      "metadata": {
        "id": "sC7_yu9--cFy",
        "outputId": "e8613e2e-1a43-46fd-e67d-f897c3175aab",
        "colab": {
          "base_uri": "https://localhost:8080/"
        }
      },
      "source": [
        "%cd /content/"
      ],
      "execution_count": 33,
      "outputs": [
        {
          "output_type": "stream",
          "text": [
            "/content\n"
          ],
          "name": "stdout"
        }
      ]
    },
    {
      "cell_type": "markdown",
      "metadata": {
        "id": "gKjk4FwKbTBN"
      },
      "source": [
        "#### Target appIDs"
      ]
    },
    {
      "cell_type": "code",
      "metadata": {
        "id": "WUx-xFgPbMGL",
        "outputId": "34108223-5503-4e3e-a35d-bea3ff96bb53",
        "colab": {
          "base_uri": "https://localhost:8080/"
        }
      },
      "source": [
        "target_image_app_ids = [\n",
        "                        418530, # Spelunky 2\n",
        "                        570, # Dota 2\n",
        "                        578080, # PLAYERUNKNOWN'S BATTLEGROUNDS\n",
        "                        440, # Team Fortress 2\n",
        "                        730, # Counter-Strike: Global Offensive\n",
        "                        304930, # Unturned\n",
        "                        550, # Left 4 Dead 2\n",
        "                        4000, # Garry's Mod\n",
        "                        240, # Counter-Strike: Source\n",
        "                        10, # Counter-Strike\n",
        "                        620, # Portal 2\n",
        "                        400, # Portal\n",
        "                        72850, # The Elder Scrolls V: Skyrim\n",
        "                        271590, # Grand Theft Auto V\n",
        "                        220, # Half-Life 2\n",
        "                        105600, # Terraria\n",
        "                        252950, # Rocket League®\n",
        "                        60, # Ricochet\n",
        "                        70, # Half-Life\n",
        "                        863550, # HITMAN™ 2\n",
        "                        292030, # The Witcher® 3: Wild Hunt\n",
        "                        377160, # Fallout 4\n",
        "                        8870, # BioShock Infinite\n",
        "                        48000, # LIMBO\n",
        "]\n",
        "\n",
        "anime_app_ids = [\n",
        "                 236090, 282900, 324160, 331470, 337340, 344770, 351640, 400910,\n",
        "                 413410, 1243670, 413420, 429660, 948740, 447530, 495890,\n",
        "                 559210, 623080, 698780, 745880, 774171, 787480, 315810, \n",
        "                 1162560, 303310, 412830, 798460, 410890, 472870, 526490,\n",
        "                 577480, 668350, 550340, 406550, 639490, 310360, 1034940,\n",
        "                 567640, 825630, 1144400, 1202540, 913740, 1171370, 1161870, \n",
        "                 1168470, 1189630, 1178050, 1232180, 1216080, 991270, 960690, \n",
        "                 1252320, 1162070, 1111370, 1260810\n",
        "                 ]\n",
        "\n",
        "target_image_app_ids += anime_app_ids\n",
        "\n",
        "print('#images={}'.format(\n",
        "    len(target_image_app_ids))\n",
        ")"
      ],
      "execution_count": 34,
      "outputs": [
        {
          "output_type": "stream",
          "text": [
            "#images=78\n"
          ],
          "name": "stdout"
        }
      ]
    },
    {
      "cell_type": "markdown",
      "metadata": {
        "id": "pd2f2rIhRhsQ"
      },
      "source": [
        "#### Constrain to a single appID (for debugging purpose)"
      ]
    },
    {
      "cell_type": "code",
      "metadata": {
        "id": "3sCLhv_5LFq4"
      },
      "source": [
        "target_image_app_ids = [ target_image_app_ids[0] ]"
      ],
      "execution_count": 35,
      "outputs": []
    },
    {
      "cell_type": "markdown",
      "metadata": {
        "id": "70ldvI-ObVai"
      },
      "source": [
        "#### Download"
      ]
    },
    {
      "cell_type": "code",
      "metadata": {
        "id": "b0Wj9uXe-wvF"
      },
      "source": [
        "def get_img_folder():\n",
        "  img_folder = 'img/'\n",
        "  %mkdir -p {img_folder}\n",
        "\n",
        "  return img_folder"
      ],
      "execution_count": 36,
      "outputs": []
    },
    {
      "cell_type": "code",
      "metadata": {
        "id": "V5tCw8d0RIz8",
        "outputId": "83fbe81e-0774-4f6b-a6b6-957688867c2f",
        "colab": {
          "base_uri": "https://localhost:8080/"
        }
      },
      "source": [
        "from pathlib import Path\n",
        "from PIL import Image\n",
        "\n",
        "url = 'https://cdn.cloudflare.steamstatic.com/steam/apps'\n",
        "banner_name = 'library_600x900.jpg'\n",
        "target_size = (256, 256)\n",
        "\n",
        "for i, app_id in enumerate(target_image_app_ids, start=1): \n",
        "  input_name = get_img_folder() + 'downloaded_img_{}.jpg'.format(app_id)\n",
        "  output_name = get_img_folder() + 'target_img_{}.jpg'.format(app_id)\n",
        "\n",
        "  if not Path(input_name).exists():\n",
        "    print('[{}/{}] Download image for appID = {}'.format(i, len(target_image_app_ids), app_id))\n",
        "    !wget -O {input_name} {url}/{app_id}/{banner_name}\n",
        "\n",
        "  if not Path(input_name).exists():\n",
        "    print('Image could not be downloaded for appID = {}'.format(app_id))\n",
        "    continue\n",
        "\n",
        "  if not Path(output_name).exists():\n",
        "    print('[{}/{}] Resize image for appID = {}'.format(i, len(target_image_app_ids), app_id))\n",
        "\n",
        "    try:\n",
        "      input_img = Image.open(input_name)\n",
        "    except Image.UnidentifiedImageError:\n",
        "      input_img = None\n",
        "      print('Input image could not be opened for appID = {}'.format(app_id))\n",
        "      continue\n",
        "    \n",
        "    output_img = input_img.resize(target_size, Image.LANCZOS)\n",
        "    output_img.save(output_name)\n"
      ],
      "execution_count": 37,
      "outputs": [
        {
          "output_type": "stream",
          "text": [
            "AppID: 418530\n",
            "--2020-11-04 16:03:48--  https://cdn.cloudflare.steamstatic.com/steam/apps/418530/library_600x900.jpg\n",
            "Resolving cdn.cloudflare.steamstatic.com (cdn.cloudflare.steamstatic.com)... 104.18.24.217, 104.18.25.217, 2606:4700::6812:19d9, ...\n",
            "Connecting to cdn.cloudflare.steamstatic.com (cdn.cloudflare.steamstatic.com)|104.18.24.217|:443... connected.\n",
            "HTTP request sent, awaiting response... 200 OK\n",
            "Length: 55657 (54K) [image/jpeg]\n",
            "Saving to: ‘img/downloaded_img_418530.jpg’\n",
            "\n",
            "img/downloaded_img_ 100%[===================>]  54.35K  --.-KB/s    in 0.001s  \n",
            "\n",
            "2020-11-04 16:03:48 (88.0 MB/s) - ‘img/downloaded_img_418530.jpg’ saved [55657/55657]\n",
            "\n"
          ],
          "name": "stdout"
        }
      ]
    },
    {
      "cell_type": "markdown",
      "metadata": {
        "id": "NWMvPgyQcE24"
      },
      "source": [
        "#### Project"
      ]
    },
    {
      "cell_type": "code",
      "metadata": {
        "id": "69gM1eVNSEjm"
      },
      "source": [
        "def get_app_id_folder(app_id):\n",
        "  output_folder = 'out/{}'.format(app_id)\n",
        "  %mkdir -p {output_folder}\n",
        "\n",
        "  return output_folder"
      ],
      "execution_count": 38,
      "outputs": []
    },
    {
      "cell_type": "code",
      "metadata": {
        "id": "GJAYsHfkNOXG",
        "outputId": "f6d1f6b4-da7a-4bf9-ac55-3c864bba4108",
        "colab": {
          "base_uri": "https://localhost:8080/"
        }
      },
      "source": [
        "from pathlib import Path\n",
        "\n",
        "for i, app_id in enumerate(target_image_app_ids, start=1):\n",
        "  input_image = get_img_folder() + 'target_img_{}.jpg'.format(app_id)\n",
        "\n",
        "  if not Path(input_image).exists():\n",
        "    print('Target image could not be found for appID = {}'.format(app_id))\n",
        "    continue\n",
        "\n",
        "  output_folder = get_app_id_folder(app_id)\n",
        "  output_name = output_folder + '/dlatents.npz'\n",
        "\n",
        "  if not Path(output_name).exists():\n",
        "    print('[{}/{}] Project target image for appID = {}'.format(i, len(target_image_app_ids), app_id))\n",
        "\n",
        "    !python stylegan2-ada/projector.py  --network={network_pkl} --outdir={output_folder} --save-video=true --target={input_image}"
      ],
      "execution_count": 39,
      "outputs": [
        {
          "output_type": "stream",
          "text": [
            "AppID: 418530\n",
            "Loading networks from \"/content/gdrive/training-runs/00025-steam-mirror-auto_no_ramp1-kimg5000-p0.713-resumecustom-freezed10/network-snapshot-005000.pkl\"...\n",
            "Setting up TensorFlow plugin \"fused_bias_act.cu\": Loading... Done.\n",
            "Setting up TensorFlow plugin \"upfirdn_2d.cu\": Loading... Done.\n",
            "Projector: Computing W midpoint and stddev using 10000 samples...\n",
            "Projector: std = 9.72759\n",
            "Projector: Setting up noise inputs...\n",
            "Projector: Building image output graph...\n",
            "Projector: Building loss graph...\n",
            "Downloading https://nvlabs-fi-cdn.nvidia.com/stylegan2-ada/pretrained/metrics/vgg16_zhang_perceptual.pkl ... done\n",
            "Projector: Building noise regularization graph...\n",
            "Projector: Setting up optimizer...\n",
            "Projector: Preparing target images...\n",
            "Projector: Initializing optimization state...\n",
            "100% 1000/1000 [01:57<00:00,  8.51it/s, dist=0.4648, loss=0.46]\n"
          ],
          "name": "stdout"
        }
      ]
    },
    {
      "cell_type": "markdown",
      "metadata": {
        "id": "6UM9eWimRAUc"
      },
      "source": [
        "#### Generation after projection\n",
        "\n",
        "If the training dataset uses resolution other than 1024, then the branch `fix-assertion-error` of my fork is required to avoid an assertion error.\n",
        "\n",
        "Reference: https://github.com/NVlabs/stylegan2-ada/issues/25"
      ]
    },
    {
      "cell_type": "code",
      "metadata": {
        "id": "gd-TgVHWOV3K",
        "outputId": "38c83c68-e27f-46bf-da87-2c55807c0168",
        "colab": {
          "base_uri": "https://localhost:8080/"
        }
      },
      "source": [
        "for app_id in target_image_app_ids:\n",
        "  print('AppID: {}'.format(app_id))\n",
        "\n",
        "  input_latent_vector = get_app_id_folder(app_id) + '/dlatents.npz'\n",
        "\n",
        "  output_folder = 'out/image_from_latent_vector'\n",
        "  %mkdir -p {output_folder}\n",
        "\n",
        "  !python stylegan2-ada/generate.py --network={network_pkl} --outdir={output_folder} --trunc=1 --dlatents={input_latent_vector}"
      ],
      "execution_count": 40,
      "outputs": [
        {
          "output_type": "stream",
          "text": [
            "AppID: 418530\n",
            "Loading networks from \"/content/gdrive/training-runs/00025-steam-mirror-auto_no_ramp1-kimg5000-p0.713-resumecustom-freezed10/network-snapshot-005000.pkl\"...\n",
            "Generating images from dlatents file \"out/418530/dlatents.npz\"\n",
            "Setting up TensorFlow plugin \"fused_bias_act.cu\": Loading... Done.\n",
            "Setting up TensorFlow plugin \"upfirdn_2d.cu\": Loading... Done.\n",
            "Saved out/image_from_latent_vector/dlatent00.png\n"
          ],
          "name": "stdout"
        }
      ]
    }
  ]
}